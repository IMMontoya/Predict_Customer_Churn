{
 "cells": [
  {
   "cell_type": "markdown",
   "metadata": {},
   "source": [
    "# Introduction\n",
    "\n"
   ]
  },
  {
   "cell_type": "code",
   "execution_count": 1,
   "metadata": {},
   "outputs": [],
   "source": [
    "# Import local libraries\n",
    "import joblib\n",
    "import os\n",
    "from tqdm import tqdm\n",
    "import warnings\n",
    "\n",
    "# Import 3rd party libraries\n",
    "import pandas as pd\n",
    "import numpy as np\n",
    "import matplotlib.pyplot as plt\n",
    "\n",
    "\n",
    "from sklearn.model_selection import train_test_split\n",
    "from sklearn.preprocessing import StandardScaler\n",
    "from sklearn.tree import DecisionTreeClassifier\n",
    "from sklearn.ensemble import RandomForestClassifier\n",
    "from sklearn.linear_model import LogisticRegression\n",
    "from sklearn.metrics import roc_auc_score, roc_curve, auc, f1_score\n",
    "from sklearn.exceptions import ConvergenceWarning\n",
    "from sklearn.utils import shuffle"
   ]
  },
  {
   "cell_type": "markdown",
   "metadata": {},
   "source": [
    "# Functions"
   ]
  },
  {
   "cell_type": "code",
   "execution_count": 2,
   "metadata": {},
   "outputs": [],
   "source": [
    "def look_for_pattern_in_NaN_tenure(data):\n",
    "    \"\"\"\n",
    "    Prints descriptive statistics and value counts for specific columns in the given DataFrame\n",
    "    where the 'Tenure' column has missing values.\n",
    "\n",
    "    Parameters:\n",
    "    - data: DataFrame\n",
    "        The input DataFrame containing the data.\n",
    "\n",
    "    Returns:\n",
    "    None\n",
    "    \"\"\"\n",
    "    temp_df = data[data['Tenure'].isna()]\n",
    "    exclude = ['Tenure', 'RowNumber', 'CustomerId', 'Surname']\n",
    "    describe = ['CreditScore', 'Age', 'Balance','EstimatedSalary']\n",
    "    val_cnts = ['Geography', 'Gender', 'NumOfProducts', 'HasCrCard', 'IsActiveMember', 'Exited']\n",
    "    for col in data.columns:\n",
    "        if col in exclude:\n",
    "            continue\n",
    "        if col in describe:\n",
    "            print(temp_df[col].describe())\n",
    "        if col in val_cnts:\n",
    "            print(temp_df[col].value_counts(dropna=False))\n",
    "        print()\n"
   ]
  },
  {
   "cell_type": "code",
   "execution_count": 3,
   "metadata": {},
   "outputs": [],
   "source": [
    "def get_f1_auc_roc_and_plot(model, random_state, features_train, target_train, features_valid, target_valid):\n",
    "    \"\"\"\n",
    "    Calculate the F1 score, AUC-ROC score, and plot the ROC curve for a given model.\n",
    "\n",
    "    Parameters:\n",
    "    - model: The machine learning model to be used.\n",
    "    - random_state: The random state for reproducibility.\n",
    "    - features_train: The training features.\n",
    "    - target_train: The training target.\n",
    "    - features_valid: The validation features.\n",
    "    - target_valid: The validation target.\n",
    "\n",
    "    Returns:\n",
    "    - f1: The F1 score.\n",
    "    - auc_roc: The AUC-ROC score.\n",
    "    \"\"\"\n",
    "\n",
    "    if model == LogisticRegression:\n",
    "        model = model(random_state=random_state, solver='liblinear')\n",
    "    else:\n",
    "        model = model(random_state=random_state)\n",
    "    model.fit(features_train, target_train)\n",
    "    predictions_valid = model.predict(features_valid)\n",
    "\n",
    "    f1 = f1_score(target_valid, predictions_valid)\n",
    "    auc_roc = roc_auc_score(target_valid, predictions_valid)\n",
    "\n",
    "    # Calculate the ROC curve\n",
    "    fpr, tpr, threshold = roc_curve(target_valid, predictions_valid)\n",
    "\n",
    "    # Plot the ROC curve\n",
    "    plt.figure(figsize=(5, 4))\n",
    "    plt.plot(fpr, tpr,)\n",
    "    plt.plot([0, 1], [0, 1], linestyle='--')\n",
    "    plt.xlim([0.0, 1.0])\n",
    "    plt.ylim([0.0, 1.05])\n",
    "    plt.xlabel('False Positive Rate')\n",
    "    plt.ylabel('True Positive Rate')\n",
    "    plt.title(f'ROC curve for {model.__class__.__name__}')\n",
    "    plt.legend(['Decision Tree', 'Random Guess'])\n",
    "    plt.show()\n",
    "\n",
    "    print({model.__class__.__name__})\n",
    "    print(f\"F1 Score: {f1}\")\n",
    "    print(f\"AUC-ROC Score: {auc_roc}\")\n",
    "\n",
    "    return f1, auc_roc\n"
   ]
  },
  {
   "cell_type": "code",
   "execution_count": 4,
   "metadata": {},
   "outputs": [],
   "source": [
    "def load_results():\n",
    "    pd.options.mode.chained_assignment = None  # default='warn' ignore the warning\n",
    "    \n",
    "    results = pd.read_csv('results/results.csv')\n",
    "    \n",
    "    # Add Model column\n",
    "    results['model'] = None\n",
    "    \n",
    "    # Reorder the columns\n",
    "    results = results[['f1_score', 'auc_roc', 'model', 'params', 'algorithm', 'method']]\n",
    "    \n",
    "    for i, row in results.iterrows():\n",
    "        results['model'][i] = joblib.load(f'results/{i}.joblib')\n",
    "        \n",
    "    pd.options.mode.chained_assignment = 'warn'\n",
    "    \n",
    "    return results"
   ]
  },
  {
   "cell_type": "code",
   "execution_count": 5,
   "metadata": {},
   "outputs": [],
   "source": [
    "def update_results(results, df, balance_method):\n",
    "    # Add the balance method to the DataFrame\n",
    "    df['method'] = balance_method\n",
    "    \n",
    "    # Concatenate the results and the new DataFrame\n",
    "    results = pd.concat([results, df], ignore_index=True)\n",
    "    \n",
    "    return results"
   ]
  },
  {
   "cell_type": "code",
   "execution_count": 6,
   "metadata": {},
   "outputs": [],
   "source": [
    "def validate_DecisionTreeClassifier(features_train, target_train, features_valid, target_valid, random_state,\n",
    "                                class_weight=[None], max_depth=[None], splitter=['best'],\n",
    "                                criterion=['gini'], min_samples_split=[2],\n",
    "                                min_samples_leaf=[1], max_features=[None]):\n",
    "    \"\"\"\n",
    "    Test different configurations of the DecisionTreeClassifier model and return the best score and parameters.\n",
    "    \n",
    "    Parameters:\n",
    "    - features_train: The training features.\n",
    "    - target_train: The training target.\n",
    "    - features_valid: The validation features.\n",
    "    - target_valid: The validation target.\n",
    "    - random_state: The random state for reproducibility. Default is random_state.\n",
    "    - class_weight: The class weight options. Default is [None, 'balanced']. Tests use of 'balanced' because the 'smart' plan is overrepresented in the data.\n",
    "    - max_depth: The maximum depth of the tree. Default is a list from 1 to 20.\n",
    "    - splitter: The strategy used to choose the split at each node. Default is ['best', 'random'].\n",
    "    - criterion: The function to measure the quality of a split. Default is ['gini', 'entropy', 'log_loss].\n",
    "    - min_samples_split: The minimum number of samples required to split an internal node. Default is a list from 2 to 18.\n",
    "    - min_samples_leaf: The minimum number of samples required to be at a leaf node. Default is a list from 1 to 18.\n",
    "    - max_features: The number of features to consider when looking for the best split. Default is [None, 'sqrt', 'log2'].\n",
    "    - print_progress: Whether to print the progress of the model testing. Default is False.\n",
    "    \n",
    "    Returns:\n",
    "    - best_score: The best score achieved by the model.\n",
    "    - best_params: The parameters that resulted in the best score.\n",
    "    - results_df: A DataFrame tracking the scores and parameters of each iteration.\n",
    "    \"\"\"\n",
    "    \n",
    "    results = pd.DataFrame(columns=['f1_score', 'auc_roc', 'model', 'params'])\n",
    "    \n",
    "    # Calculate total number of iterations\n",
    "    total = len(class_weight) * len(max_depth) * len(splitter) * len(criterion) * len(min_samples_split) * len(min_samples_leaf) * len(max_features)\n",
    "\n",
    "    # Wrap the loop in tqdm to show a progress bar\n",
    "    with tqdm(total=total, desc='Testing DecisionTreeClassifier Parameters', unit='iterations') as pbar:\n",
    "        for cw in class_weight:\n",
    "            for md in max_depth:\n",
    "                for s in splitter:\n",
    "                    for c in criterion:\n",
    "                        for mss in min_samples_split:\n",
    "                            for msl in min_samples_leaf:\n",
    "                                for mf in max_features:\n",
    "                                    # Save params in a dict\n",
    "                                    params = {'class_weight': cw, 'max_depth': md, 'splitter': s, 'criterion': c, 'min_samples_split': mss, 'min_samples_leaf': msl, 'max_features': mf}\n",
    "                                    \n",
    "                                    # Define and train the model\n",
    "                                    model = DecisionTreeClassifier(random_state=random_state, class_weight=cw, max_depth=md, splitter=s, criterion=c, min_samples_split=mss, min_samples_leaf=msl, max_features=mf)\n",
    "                                    model.fit(features_train, target_train)\n",
    "                                    score = model.score(features_valid, target_valid)\n",
    "                                    \n",
    "                                    # Score the model\n",
    "                                    predictions_valid = model.predict(features_valid)\n",
    "                                    f1 = f1_score(target_valid, predictions_valid)\n",
    "                                    auc_roc = roc_auc_score(target_valid, predictions_valid)\n",
    "                                    \n",
    "                                    # Save the results\n",
    "                                    new_row = pd.DataFrame({'f1_score': [f1], 'auc_roc': [auc_roc], 'algorithm': ['DecisionTreeClassifier'], 'params': [params], 'model': [model]})\n",
    "                                    results = pd.concat([results, new_row], ignore_index=True)\n",
    "                                    \n",
    "                                    # Sort results by descending f1_score\n",
    "                                    results = results.sort_values(by='f1_score', ascending=False)\n",
    "                                    \n",
    "                                    # Keep only top 3 results\n",
    "                                    results = results.head(1)\n",
    "                                    \n",
    "                                    # Update the progress bar\n",
    "                                    pbar.update(1)\n",
    "                                    \n",
    "    return results   "
   ]
  },
  {
   "cell_type": "code",
   "execution_count": 7,
   "metadata": {},
   "outputs": [],
   "source": [
    "def validate_RandomForrest(features_train, target_train, features_valid, target_valid,\n",
    "                           class_weight=[None],\n",
    "                           n_estimators=[50],\n",
    "                           criterion=['gini'],\n",
    "                           max_depth=[None],\n",
    "                           min_samples_split=[2],\n",
    "                           min_samples_leaf=[1],\n",
    "                           max_features=['sqrt']):\n",
    "    # Rest of the code...\n",
    "    \n",
    "    # Create a DataFrame to store the results\n",
    "    results = pd.DataFrame(columns=['f1_score', 'auc_roc', 'model', 'params'])\n",
    "    \n",
    "    # Define the total for the progress bar\n",
    "    total = len(class_weight) * len(n_estimators) * len(criterion) * len(max_depth) * len(min_samples_split) * len(min_samples_leaf) * len(max_features)\n",
    "    # Initialize the progress bar\n",
    "    with tqdm(total=total, desc='Testing RandomForestClassifier Parameters', unit='iterations') as pbar:\n",
    "        for cw in class_weight:\n",
    "            for ne in n_estimators:\n",
    "                for c in criterion:\n",
    "                    for md in max_depth:\n",
    "                        for mss in min_samples_split:\n",
    "                            for msl in min_samples_leaf:\n",
    "                                for mf in max_features:\n",
    "                                    # Save params in a dict\n",
    "                                    params = {'class_weight': cw, 'n_estimators': ne, 'criterion': c, 'max_depth': md, 'min_samples_split': mss, 'min_samples_leaf': msl, 'max_features': mf,}\n",
    "                                    # Define and train the model\n",
    "                                    model = RandomForestClassifier(random_state=random_state, class_weight=cw, n_estimators=ne, criterion=c, max_depth=md, min_samples_split=mss, min_samples_leaf=msl, max_features=mf)\n",
    "                                    model.fit(features_train, target_train)\n",
    "                                    # Score the model\n",
    "                                    predictions_valid = model.predict(features_valid)\n",
    "                                    f1 = f1_score(target_valid, predictions_valid)\n",
    "                                    auc_roc = roc_auc_score(target_valid, predictions_valid)\n",
    "                                    # Save the results\n",
    "                                    new_row = pd.DataFrame({'f1_score': [f1], 'auc_roc': [auc_roc], 'algorithm': ['RandomForrestClassifier'], 'params': [params], 'model': [model]})\n",
    "                                    results = pd.concat([results, new_row], ignore_index=True)\n",
    "                                    # Sort results by descending f1_score\n",
    "                                    results = results.sort_values(by='f1_score', ascending=False)\n",
    "                                    # Keep only top 3 results\n",
    "                                    results = results.head(1)\n",
    "                                    # Update the progress bar\n",
    "                                    pbar.update(1)\n",
    "                                    \n",
    "    return results"
   ]
  },
  {
   "cell_type": "code",
   "execution_count": 8,
   "metadata": {},
   "outputs": [],
   "source": [
    "def validate_LogisticRegression(features_train, target_train, features_valid, target_valid, random_state,\n",
    "                                class_weight = [None],\n",
    "                                solvers = ['liblinear'],\n",
    "                                duals = [False],\n",
    "                                penalties = ['l2'],\n",
    "                                max_iter = [100]):\n",
    "    \"\"\"\n",
    "    Validates the Logistic Regression model with different parameter combinations.\n",
    "\n",
    "    Parameters:\n",
    "    - features_train: Training features data.\n",
    "    - target_train: Training target data.\n",
    "    - features_valid: Validation features data.\n",
    "    - target_valid: Validation target data.\n",
    "    - random_state: Random state for reproducibility.\n",
    "    - solvers: List of solvers to test.\n",
    "    - duals: List of dual values to test.\n",
    "    - penalties: List of penalties to test.\n",
    "\n",
    "    Returns:\n",
    "    - best_score: Best score achieved by the model.\n",
    "    - best_params: Best parameters combination that achieved the best score.\n",
    "    \"\"\"\n",
    "\n",
    "    # Ignore ConvergenceWarning\n",
    "    warnings.filterwarnings(\"ignore\", category=ConvergenceWarning)\n",
    "\n",
    "    # Ignore LineSearchWarning\n",
    "    warnings.filterwarnings(\"ignore\", message=\"^The line search algorithm did not converge\")\n",
    "    warnings.filterwarnings(\"ignore\", message=\"^Line Search failed\")\n",
    "    \n",
    "    # Create a DataFrame to store the results                                \n",
    "    results = pd.DataFrame(columns=['f1_score', 'auc_roc', 'model', 'params'])\n",
    "\n",
    "    # Initialize the progress bar\n",
    "    with tqdm(total=len(class_weight) * len(solvers) * len(duals) * len(penalties), desc='Testing LogisticRegression Parameters', unit='iterations') as pbar:\n",
    "        for weight in class_weight:\n",
    "            for solver in solvers:\n",
    "                for dual in duals:\n",
    "                    for penalty in penalties:\n",
    "                        for iter in max_iter:\n",
    "\n",
    "                            # Save params in a dict\n",
    "                            params = {'class_weight': weight, 'solver': solver, 'dual': dual, 'penalty': penalty, 'max_iter': iter}\n",
    "                            \n",
    "                            # Define, train, and score the model\n",
    "                            model = LogisticRegression(random_state=random_state, class_weight=weight, solver=solver, dual=dual, penalty=penalty)\n",
    "                            try: # try/except to handle invalid param combinations\n",
    "                                model.fit(features_train, target_train)\n",
    "                                # Score the model\n",
    "                                predictions_valid = model.predict(features_valid)\n",
    "                                f1 = f1_score(target_valid, predictions_valid)\n",
    "                                auc_roc = roc_auc_score(target_valid, predictions_valid)\n",
    "                                # Save the results\n",
    "                                new_row = pd.DataFrame({'f1_score': [f1], 'auc_roc': [auc_roc], 'algorithm': ['LogisticRegression'], 'params': [params], 'model': [model]})\n",
    "                                results = pd.concat([results, new_row], ignore_index=True)\n",
    "                                # Sort results by descending f1_score\n",
    "                                results = results.sort_values(by='f1_score', ascending=False)\n",
    "                                # Keep only top 3 results\n",
    "                                results = results.head(1)\n",
    "                                \n",
    "                                # Update the progress bar\n",
    "                                pbar.update(1)\n",
    "                            except:\n",
    "                                pbar.update(1)\n",
    "                                continue\n",
    "\n",
    "        return results"
   ]
  },
  {
   "cell_type": "code",
   "execution_count": 9,
   "metadata": {},
   "outputs": [],
   "source": [
    "def get_details(list_of_models, features_valid, target_valid):\n",
    "    warnings.filterwarnings(action='ignore', category=UserWarning)\n",
    "\n",
    "    model_index = 0\n",
    "\n",
    "    for model in list_of_models:\n",
    "        print(f\"model_index: {model_index}\")\n",
    "    \n",
    "        predictions_valid = model.predict(features_valid)\n",
    "        f1 = f1_score(target_valid, predictions_valid)\n",
    "        auc_roc = roc_auc_score(target_valid, predictions_valid)\n",
    "\n",
    "        print(f\"F1 Score: {f1}\")\n",
    "        print(f\"AUC-ROC Score: {auc_roc}\")\n",
    "\n",
    "    # Plot the ROC curve\n",
    "        fpr, tpr, thresholds = roc_curve(target_valid, predictions_valid)\n",
    "    \n",
    "\n",
    "        plt.figure(figsize=(5, 4))\n",
    "        plt.plot(fpr, tpr,)\n",
    "        plt.xlim([0.0, 1.0])\n",
    "        plt.ylim([0.0, 1.05])\n",
    "        plt.xlabel('False Positive Rate')\n",
    "        plt.ylabel('True Positive Rate')\n",
    "        plt.title(f'ROC curve for {model.__class__.__name__} {model_index}')\n",
    "\n",
    "        plt.show()\n",
    "    \n",
    "        model_index += 1\n",
    "    \n",
    "    # Return filterwarnings to default\n",
    "    warnings.filterwarnings(action='default', category=UserWarning)\n"
   ]
  },
  {
   "cell_type": "code",
   "execution_count": 10,
   "metadata": {},
   "outputs": [],
   "source": [
    "def save_results(results):\n",
    "    \n",
    "    if os.path.exists('results'):\n",
    "        os.system('rm -rf results')\n",
    "    \n",
    "    os.mkdir('results')\n",
    "    \n",
    "    # Save each model from the results to the best_decision_tree directory\n",
    "    for i, row in results.iterrows():\n",
    "        joblib.dump(row['model'], f'results/{i}.joblib')\n",
    "        \n",
    "    # Drop the model column from the results\n",
    "    results_temp = results.drop(columns='model')\n",
    "    \n",
    "    # Save the results to a csv file\n",
    "    results_temp.to_csv('results/results.csv', index=False)"
   ]
  },
  {
   "cell_type": "code",
   "execution_count": 11,
   "metadata": {},
   "outputs": [],
   "source": [
    "def upsample(features, target, repeat, random_state):\n",
    "   \n",
    "    features_zeros = features[target == 0]\n",
    "    features_ones = features[target == 1]\n",
    "    target_zeros = target[target == 0]\n",
    "    target_ones = target[target == 1]\n",
    "\n",
    "    features_upsampled = pd.concat([features_zeros] + [features_ones] * repeat)\n",
    "    target_upsampled = pd.concat([target_zeros] + [target_ones] * repeat)\n",
    "\n",
    "    features_upsampled, target_upsampled = shuffle(features_upsampled, target_upsampled, random_state=random_state)\n",
    "\n",
    "    return features_upsampled, target_upsampled"
   ]
  },
  {
   "cell_type": "code",
   "execution_count": 12,
   "metadata": {},
   "outputs": [],
   "source": [
    "def downsample(features, target, fraction, random_state):\n",
    "    features_zeros = features[target == 0]\n",
    "    features_ones = features[target == 1]\n",
    "    target_zeros = target[target == 0]\n",
    "    target_ones = target[target == 1]\n",
    "\n",
    "    features_downsampled = pd.concat([features_zeros.sample(frac=fraction, random_state=random_state)] + [features_ones])\n",
    "    target_downsampled = pd.concat([target_zeros.sample(frac=fraction, random_state=random_state)] + [target_ones])\n",
    "\n",
    "    features_downsampled, target_downsampled = shuffle(features_downsampled, target_downsampled, random_state=random_state)\n",
    "\n",
    "    return features_downsampled, target_downsampled"
   ]
  },
  {
   "cell_type": "code",
   "execution_count": 13,
   "metadata": {},
   "outputs": [],
   "source": [
    "def find_threshold(results, features_valid, target_valid):\n",
    "    # Create a df\n",
    "    temp_df = pd.DataFrame(columns=['f1_score', 'auc_roc', 'model', 'params', 'algorithm', 'method', 'threshold'])\n",
    "    # For each row in the results\n",
    "    for i, row in results.iterrows():\n",
    "        # Define the model\n",
    "        model = row['model']\n",
    "\n",
    "        # Get the probabilities of the positive class\n",
    "        probabilities_one_valid = model.predict_proba(features_valid)[:, 1]\n",
    "        \n",
    "        # Test different thresholds\n",
    "        for threshold in np.arange(0.0, 1.0, .02):\n",
    "            # Convert probabilities to binary predictions\n",
    "            predictions_valid = probabilities_one_valid > threshold\n",
    "            # Calculate the f1 score\n",
    "            f1 = f1_score(target_valid, predictions_valid)\n",
    "            # Calculate the auc_roc score\n",
    "            auc_roc = roc_auc_score(target_valid, predictions_valid)\n",
    "            \n",
    "            # Add the results to the temp_df\n",
    "            temp_df = pd.concat([temp_df, pd.DataFrame({'f1_score': [f1], 'auc_roc': [auc_roc], 'model': [model], 'params': [row['params']], 'algorithm': [row['algorithm']], 'method': [row['method']], 'threshold': [threshold]})], ignore_index=True)\n",
    "            \n",
    "            # Sort the temp_df by descending f1_score, auc_roc\n",
    "            temp_df = temp_df.sort_values(by=['f1_score', 'auc_roc'], ascending=False, ignore_index=True)\n",
    "            \n",
    "            # Keep only the top 3 results\n",
    "            temp_df = temp_df.head(3)\n",
    "            \n",
    "    return temp_df"
   ]
  },
  {
   "cell_type": "markdown",
   "metadata": {},
   "source": [
    "# Data Inspection and Cleaning"
   ]
  },
  {
   "cell_type": "code",
   "execution_count": 14,
   "metadata": {},
   "outputs": [],
   "source": [
    "# Load the data\n",
    "try: # If running locally\n",
    "    data = pd.read_csv(\"Churn.csv\")\n",
    "except: # If running in the TripTen Environment\n",
    "    data = pd.read_csv(\"/datasets/Churn.csv\")"
   ]
  },
  {
   "cell_type": "code",
   "execution_count": 15,
   "metadata": {},
   "outputs": [
    {
     "name": "stdout",
     "output_type": "stream",
     "text": [
      "<class 'pandas.core.frame.DataFrame'>\n",
      "RangeIndex: 10000 entries, 0 to 9999\n",
      "Data columns (total 14 columns):\n",
      " #   Column           Non-Null Count  Dtype  \n",
      "---  ------           --------------  -----  \n",
      " 0   RowNumber        10000 non-null  int64  \n",
      " 1   CustomerId       10000 non-null  int64  \n",
      " 2   Surname          10000 non-null  object \n",
      " 3   CreditScore      10000 non-null  int64  \n",
      " 4   Geography        10000 non-null  object \n",
      " 5   Gender           10000 non-null  object \n",
      " 6   Age              10000 non-null  int64  \n",
      " 7   Tenure           9091 non-null   float64\n",
      " 8   Balance          10000 non-null  float64\n",
      " 9   NumOfProducts    10000 non-null  int64  \n",
      " 10  HasCrCard        10000 non-null  int64  \n",
      " 11  IsActiveMember   10000 non-null  int64  \n",
      " 12  EstimatedSalary  10000 non-null  float64\n",
      " 13  Exited           10000 non-null  int64  \n",
      "dtypes: float64(3), int64(8), object(3)\n",
      "memory usage: 1.1+ MB\n"
     ]
    }
   ],
   "source": [
    "data.info()"
   ]
  },
  {
   "cell_type": "code",
   "execution_count": 16,
   "metadata": {},
   "outputs": [
    {
     "data": {
      "text/html": [
       "<div>\n",
       "<style scoped>\n",
       "    .dataframe tbody tr th:only-of-type {\n",
       "        vertical-align: middle;\n",
       "    }\n",
       "\n",
       "    .dataframe tbody tr th {\n",
       "        vertical-align: top;\n",
       "    }\n",
       "\n",
       "    .dataframe thead th {\n",
       "        text-align: right;\n",
       "    }\n",
       "</style>\n",
       "<table border=\"1\" class=\"dataframe\">\n",
       "  <thead>\n",
       "    <tr style=\"text-align: right;\">\n",
       "      <th></th>\n",
       "      <th>RowNumber</th>\n",
       "      <th>CustomerId</th>\n",
       "      <th>Surname</th>\n",
       "      <th>CreditScore</th>\n",
       "      <th>Geography</th>\n",
       "      <th>Gender</th>\n",
       "      <th>Age</th>\n",
       "      <th>Tenure</th>\n",
       "      <th>Balance</th>\n",
       "      <th>NumOfProducts</th>\n",
       "      <th>HasCrCard</th>\n",
       "      <th>IsActiveMember</th>\n",
       "      <th>EstimatedSalary</th>\n",
       "      <th>Exited</th>\n",
       "    </tr>\n",
       "  </thead>\n",
       "  <tbody>\n",
       "    <tr>\n",
       "      <th>0</th>\n",
       "      <td>1</td>\n",
       "      <td>15634602</td>\n",
       "      <td>Hargrave</td>\n",
       "      <td>619</td>\n",
       "      <td>France</td>\n",
       "      <td>Female</td>\n",
       "      <td>42</td>\n",
       "      <td>2.0</td>\n",
       "      <td>0.00</td>\n",
       "      <td>1</td>\n",
       "      <td>1</td>\n",
       "      <td>1</td>\n",
       "      <td>101348.88</td>\n",
       "      <td>1</td>\n",
       "    </tr>\n",
       "    <tr>\n",
       "      <th>1</th>\n",
       "      <td>2</td>\n",
       "      <td>15647311</td>\n",
       "      <td>Hill</td>\n",
       "      <td>608</td>\n",
       "      <td>Spain</td>\n",
       "      <td>Female</td>\n",
       "      <td>41</td>\n",
       "      <td>1.0</td>\n",
       "      <td>83807.86</td>\n",
       "      <td>1</td>\n",
       "      <td>0</td>\n",
       "      <td>1</td>\n",
       "      <td>112542.58</td>\n",
       "      <td>0</td>\n",
       "    </tr>\n",
       "    <tr>\n",
       "      <th>2</th>\n",
       "      <td>3</td>\n",
       "      <td>15619304</td>\n",
       "      <td>Onio</td>\n",
       "      <td>502</td>\n",
       "      <td>France</td>\n",
       "      <td>Female</td>\n",
       "      <td>42</td>\n",
       "      <td>8.0</td>\n",
       "      <td>159660.80</td>\n",
       "      <td>3</td>\n",
       "      <td>1</td>\n",
       "      <td>0</td>\n",
       "      <td>113931.57</td>\n",
       "      <td>1</td>\n",
       "    </tr>\n",
       "    <tr>\n",
       "      <th>3</th>\n",
       "      <td>4</td>\n",
       "      <td>15701354</td>\n",
       "      <td>Boni</td>\n",
       "      <td>699</td>\n",
       "      <td>France</td>\n",
       "      <td>Female</td>\n",
       "      <td>39</td>\n",
       "      <td>1.0</td>\n",
       "      <td>0.00</td>\n",
       "      <td>2</td>\n",
       "      <td>0</td>\n",
       "      <td>0</td>\n",
       "      <td>93826.63</td>\n",
       "      <td>0</td>\n",
       "    </tr>\n",
       "    <tr>\n",
       "      <th>4</th>\n",
       "      <td>5</td>\n",
       "      <td>15737888</td>\n",
       "      <td>Mitchell</td>\n",
       "      <td>850</td>\n",
       "      <td>Spain</td>\n",
       "      <td>Female</td>\n",
       "      <td>43</td>\n",
       "      <td>2.0</td>\n",
       "      <td>125510.82</td>\n",
       "      <td>1</td>\n",
       "      <td>1</td>\n",
       "      <td>1</td>\n",
       "      <td>79084.10</td>\n",
       "      <td>0</td>\n",
       "    </tr>\n",
       "  </tbody>\n",
       "</table>\n",
       "</div>"
      ],
      "text/plain": [
       "   RowNumber  CustomerId   Surname  CreditScore Geography  Gender  Age  \\\n",
       "0          1    15634602  Hargrave          619    France  Female   42   \n",
       "1          2    15647311      Hill          608     Spain  Female   41   \n",
       "2          3    15619304      Onio          502    France  Female   42   \n",
       "3          4    15701354      Boni          699    France  Female   39   \n",
       "4          5    15737888  Mitchell          850     Spain  Female   43   \n",
       "\n",
       "   Tenure    Balance  NumOfProducts  HasCrCard  IsActiveMember  \\\n",
       "0     2.0       0.00              1          1               1   \n",
       "1     1.0   83807.86              1          0               1   \n",
       "2     8.0  159660.80              3          1               0   \n",
       "3     1.0       0.00              2          0               0   \n",
       "4     2.0  125510.82              1          1               1   \n",
       "\n",
       "   EstimatedSalary  Exited  \n",
       "0        101348.88       1  \n",
       "1        112542.58       0  \n",
       "2        113931.57       1  \n",
       "3         93826.63       0  \n",
       "4         79084.10       0  "
      ]
     },
     "execution_count": 16,
     "metadata": {},
     "output_type": "execute_result"
    }
   ],
   "source": [
    "data.head()"
   ]
  },
  {
   "cell_type": "code",
   "execution_count": 17,
   "metadata": {},
   "outputs": [],
   "source": [
    "# Drop the RowNumber, and CustomerId columns since we will not want to use them as features in our model\n",
    "data = data.drop(['RowNumber', 'CustomerId'], axis=1)"
   ]
  },
  {
   "cell_type": "code",
   "execution_count": 18,
   "metadata": {},
   "outputs": [
    {
     "data": {
      "text/html": [
       "<div>\n",
       "<style scoped>\n",
       "    .dataframe tbody tr th:only-of-type {\n",
       "        vertical-align: middle;\n",
       "    }\n",
       "\n",
       "    .dataframe tbody tr th {\n",
       "        vertical-align: top;\n",
       "    }\n",
       "\n",
       "    .dataframe thead th {\n",
       "        text-align: right;\n",
       "    }\n",
       "</style>\n",
       "<table border=\"1\" class=\"dataframe\">\n",
       "  <thead>\n",
       "    <tr style=\"text-align: right;\">\n",
       "      <th></th>\n",
       "      <th>CreditScore</th>\n",
       "      <th>Age</th>\n",
       "      <th>Tenure</th>\n",
       "      <th>Balance</th>\n",
       "      <th>NumOfProducts</th>\n",
       "      <th>HasCrCard</th>\n",
       "      <th>IsActiveMember</th>\n",
       "      <th>EstimatedSalary</th>\n",
       "      <th>Exited</th>\n",
       "    </tr>\n",
       "  </thead>\n",
       "  <tbody>\n",
       "    <tr>\n",
       "      <th>count</th>\n",
       "      <td>10000.000000</td>\n",
       "      <td>10000.000000</td>\n",
       "      <td>9091.000000</td>\n",
       "      <td>10000.000000</td>\n",
       "      <td>10000.000000</td>\n",
       "      <td>10000.00000</td>\n",
       "      <td>10000.000000</td>\n",
       "      <td>10000.000000</td>\n",
       "      <td>10000.000000</td>\n",
       "    </tr>\n",
       "    <tr>\n",
       "      <th>mean</th>\n",
       "      <td>650.528800</td>\n",
       "      <td>38.921800</td>\n",
       "      <td>4.997690</td>\n",
       "      <td>76485.889288</td>\n",
       "      <td>1.530200</td>\n",
       "      <td>0.70550</td>\n",
       "      <td>0.515100</td>\n",
       "      <td>100090.239881</td>\n",
       "      <td>0.203700</td>\n",
       "    </tr>\n",
       "    <tr>\n",
       "      <th>std</th>\n",
       "      <td>96.653299</td>\n",
       "      <td>10.487806</td>\n",
       "      <td>2.894723</td>\n",
       "      <td>62397.405202</td>\n",
       "      <td>0.581654</td>\n",
       "      <td>0.45584</td>\n",
       "      <td>0.499797</td>\n",
       "      <td>57510.492818</td>\n",
       "      <td>0.402769</td>\n",
       "    </tr>\n",
       "    <tr>\n",
       "      <th>min</th>\n",
       "      <td>350.000000</td>\n",
       "      <td>18.000000</td>\n",
       "      <td>0.000000</td>\n",
       "      <td>0.000000</td>\n",
       "      <td>1.000000</td>\n",
       "      <td>0.00000</td>\n",
       "      <td>0.000000</td>\n",
       "      <td>11.580000</td>\n",
       "      <td>0.000000</td>\n",
       "    </tr>\n",
       "    <tr>\n",
       "      <th>25%</th>\n",
       "      <td>584.000000</td>\n",
       "      <td>32.000000</td>\n",
       "      <td>2.000000</td>\n",
       "      <td>0.000000</td>\n",
       "      <td>1.000000</td>\n",
       "      <td>0.00000</td>\n",
       "      <td>0.000000</td>\n",
       "      <td>51002.110000</td>\n",
       "      <td>0.000000</td>\n",
       "    </tr>\n",
       "    <tr>\n",
       "      <th>50%</th>\n",
       "      <td>652.000000</td>\n",
       "      <td>37.000000</td>\n",
       "      <td>5.000000</td>\n",
       "      <td>97198.540000</td>\n",
       "      <td>1.000000</td>\n",
       "      <td>1.00000</td>\n",
       "      <td>1.000000</td>\n",
       "      <td>100193.915000</td>\n",
       "      <td>0.000000</td>\n",
       "    </tr>\n",
       "    <tr>\n",
       "      <th>75%</th>\n",
       "      <td>718.000000</td>\n",
       "      <td>44.000000</td>\n",
       "      <td>7.000000</td>\n",
       "      <td>127644.240000</td>\n",
       "      <td>2.000000</td>\n",
       "      <td>1.00000</td>\n",
       "      <td>1.000000</td>\n",
       "      <td>149388.247500</td>\n",
       "      <td>0.000000</td>\n",
       "    </tr>\n",
       "    <tr>\n",
       "      <th>max</th>\n",
       "      <td>850.000000</td>\n",
       "      <td>92.000000</td>\n",
       "      <td>10.000000</td>\n",
       "      <td>250898.090000</td>\n",
       "      <td>4.000000</td>\n",
       "      <td>1.00000</td>\n",
       "      <td>1.000000</td>\n",
       "      <td>199992.480000</td>\n",
       "      <td>1.000000</td>\n",
       "    </tr>\n",
       "  </tbody>\n",
       "</table>\n",
       "</div>"
      ],
      "text/plain": [
       "        CreditScore           Age       Tenure        Balance  NumOfProducts  \\\n",
       "count  10000.000000  10000.000000  9091.000000   10000.000000   10000.000000   \n",
       "mean     650.528800     38.921800     4.997690   76485.889288       1.530200   \n",
       "std       96.653299     10.487806     2.894723   62397.405202       0.581654   \n",
       "min      350.000000     18.000000     0.000000       0.000000       1.000000   \n",
       "25%      584.000000     32.000000     2.000000       0.000000       1.000000   \n",
       "50%      652.000000     37.000000     5.000000   97198.540000       1.000000   \n",
       "75%      718.000000     44.000000     7.000000  127644.240000       2.000000   \n",
       "max      850.000000     92.000000    10.000000  250898.090000       4.000000   \n",
       "\n",
       "         HasCrCard  IsActiveMember  EstimatedSalary        Exited  \n",
       "count  10000.00000    10000.000000     10000.000000  10000.000000  \n",
       "mean       0.70550        0.515100    100090.239881      0.203700  \n",
       "std        0.45584        0.499797     57510.492818      0.402769  \n",
       "min        0.00000        0.000000        11.580000      0.000000  \n",
       "25%        0.00000        0.000000     51002.110000      0.000000  \n",
       "50%        1.00000        1.000000    100193.915000      0.000000  \n",
       "75%        1.00000        1.000000    149388.247500      0.000000  \n",
       "max        1.00000        1.000000    199992.480000      1.000000  "
      ]
     },
     "execution_count": 18,
     "metadata": {},
     "output_type": "execute_result"
    }
   ],
   "source": [
    "data.describe()"
   ]
  },
  {
   "cell_type": "code",
   "execution_count": 19,
   "metadata": {},
   "outputs": [
    {
     "data": {
      "text/plain": [
       "0"
      ]
     },
     "execution_count": 19,
     "metadata": {},
     "output_type": "execute_result"
    }
   ],
   "source": [
    "# Check for duplicates\n",
    "data.duplicated().sum()"
   ]
  },
  {
   "cell_type": "code",
   "execution_count": 20,
   "metadata": {},
   "outputs": [
    {
     "data": {
      "text/plain": [
       "Tenure\n",
       "1.0     952\n",
       "2.0     950\n",
       "8.0     933\n",
       "3.0     928\n",
       "5.0     927\n",
       "7.0     925\n",
       "NaN     909\n",
       "4.0     885\n",
       "9.0     882\n",
       "6.0     881\n",
       "10.0    446\n",
       "0.0     382\n",
       "Name: count, dtype: int64"
      ]
     },
     "execution_count": 20,
     "metadata": {},
     "output_type": "execute_result"
    }
   ],
   "source": [
    "# Examine Tenure column\n",
    "data['Tenure'].value_counts(dropna=False)"
   ]
  },
  {
   "cell_type": "markdown",
   "metadata": {},
   "source": [
    "We have 909 missing values in the Tenure column. Let's take a closer look to see if we might be able to find any pattern with these missing values."
   ]
  },
  {
   "cell_type": "code",
   "execution_count": 21,
   "metadata": {},
   "outputs": [
    {
     "name": "stdout",
     "output_type": "stream",
     "text": [
      "count    909.000000\n",
      "mean     648.451045\n",
      "std       99.079381\n",
      "min      359.000000\n",
      "25%      580.000000\n",
      "50%      647.000000\n",
      "75%      718.000000\n",
      "max      850.000000\n",
      "Name: CreditScore, dtype: float64\n",
      "\n",
      "Geography\n",
      "France     464\n",
      "Spain      229\n",
      "Germany    216\n",
      "Name: count, dtype: int64\n",
      "\n",
      "Gender\n",
      "Male      483\n",
      "Female    426\n",
      "Name: count, dtype: int64\n",
      "\n",
      "count    909.000000\n",
      "mean      38.647965\n",
      "std        9.785438\n",
      "min       18.000000\n",
      "25%       32.000000\n",
      "50%       37.000000\n",
      "75%       43.000000\n",
      "max       92.000000\n",
      "Name: Age, dtype: float64\n",
      "\n",
      "count       909.000000\n",
      "mean      76117.341474\n",
      "std       63105.690715\n",
      "min           0.000000\n",
      "25%           0.000000\n",
      "50%       96674.550000\n",
      "75%      128554.980000\n",
      "max      206663.750000\n",
      "Name: Balance, dtype: float64\n",
      "\n",
      "NumOfProducts\n",
      "1    467\n",
      "2    406\n",
      "3     32\n",
      "4      4\n",
      "Name: count, dtype: int64\n",
      "\n",
      "HasCrCard\n",
      "1    646\n",
      "0    263\n",
      "Name: count, dtype: int64\n",
      "\n",
      "IsActiveMember\n",
      "1    464\n",
      "0    445\n",
      "Name: count, dtype: int64\n",
      "\n",
      "count       909.000000\n",
      "mean      99180.389373\n",
      "std       56378.063765\n",
      "min         106.670000\n",
      "25%       49872.330000\n",
      "50%       99444.020000\n",
      "75%      145759.700000\n",
      "max      199390.450000\n",
      "Name: EstimatedSalary, dtype: float64\n",
      "\n",
      "Exited\n",
      "0    726\n",
      "1    183\n",
      "Name: count, dtype: int64\n",
      "\n"
     ]
    }
   ],
   "source": [
    "look_for_pattern_in_NaN_tenure(data)"
   ]
  },
  {
   "cell_type": "markdown",
   "metadata": {},
   "source": [
    "I'm not seeing any clear patterns with the missing values in Tenure. I think the best approach will be to fill the missing values with median of the data set. We'll group by age, as that is probably a good indicator for account age."
   ]
  },
  {
   "cell_type": "code",
   "execution_count": 22,
   "metadata": {},
   "outputs": [],
   "source": [
    "# Get the median tenure for each group\n",
    "data['Tenure'] = data['Tenure'].fillna(data.groupby('Age')['Tenure'].transform('median')) # Replaces the Tenure column with the median tenure for each group at the index level, then fills the NaN values with the median tenure for the group\n",
    "\n",
    "# Median results in some floats, but all the original values are integers. So we will convert the Tenure column to integers\n",
    "data['Tenure'] = data['Tenure'].astype(int)"
   ]
  },
  {
   "cell_type": "code",
   "execution_count": 23,
   "metadata": {},
   "outputs": [
    {
     "name": "stdout",
     "output_type": "stream",
     "text": [
      "<class 'pandas.core.frame.DataFrame'>\n",
      "RangeIndex: 10000 entries, 0 to 9999\n",
      "Data columns (total 12 columns):\n",
      " #   Column           Non-Null Count  Dtype  \n",
      "---  ------           --------------  -----  \n",
      " 0   Surname          10000 non-null  object \n",
      " 1   CreditScore      10000 non-null  int64  \n",
      " 2   Geography        10000 non-null  object \n",
      " 3   Gender           10000 non-null  object \n",
      " 4   Age              10000 non-null  int64  \n",
      " 5   Tenure           10000 non-null  int64  \n",
      " 6   Balance          10000 non-null  float64\n",
      " 7   NumOfProducts    10000 non-null  int64  \n",
      " 8   HasCrCard        10000 non-null  int64  \n",
      " 9   IsActiveMember   10000 non-null  int64  \n",
      " 10  EstimatedSalary  10000 non-null  float64\n",
      " 11  Exited           10000 non-null  int64  \n",
      "dtypes: float64(2), int64(7), object(3)\n",
      "memory usage: 937.6+ KB\n"
     ]
    }
   ],
   "source": [
    "# Re examine the data\n",
    "data.info()"
   ]
  },
  {
   "cell_type": "markdown",
   "metadata": {},
   "source": [
    "Missing data in the tenure column has been handled. There are no other missing value issues. Columns unwanted for training the model have been dropped (Row number, and CustomerID). The Dtypes are already formatted in the optimal way for one hot encoding and feature scaling. "
   ]
  },
  {
   "cell_type": "markdown",
   "metadata": {},
   "source": [
    "# Examine the Balance of Target Data"
   ]
  },
  {
   "cell_type": "code",
   "execution_count": 24,
   "metadata": {},
   "outputs": [
    {
     "data": {
      "text/plain": [
       "Exited\n",
       "0    7963\n",
       "1    2037\n",
       "Name: count, dtype: int64"
      ]
     },
     "execution_count": 24,
     "metadata": {},
     "output_type": "execute_result"
    }
   ],
   "source": [
    "data['Exited'].value_counts()"
   ]
  },
  {
   "cell_type": "markdown",
   "metadata": {},
   "source": [
    "There is a big imbalance in the data for the target variable. We'll start by training the model without regard to this imbalance, then try again accounting for the imbalance."
   ]
  },
  {
   "cell_type": "markdown",
   "metadata": {},
   "source": [
    "# Prepare Data for Training"
   ]
  },
  {
   "cell_type": "code",
   "execution_count": 25,
   "metadata": {},
   "outputs": [
    {
     "name": "stdout",
     "output_type": "stream",
     "text": [
      "features_train shape: (6000, 2942)\n",
      "target_train shape: (6000,)\n",
      "features_valid shape: (2000, 2942)\n",
      "target_valid shape: (2000,)\n",
      "features_test shape: (2000, 2942)\n",
      "target_test shape: (2000,)\n"
     ]
    }
   ],
   "source": [
    "# Transform the data with One Hot Encoding for categorical columns\n",
    "data = pd.get_dummies(data, drop_first=True)\n",
    "\n",
    "# Split the data into features and target\n",
    "features = data.drop('Exited', axis=1)\n",
    "target = data['Exited']\n",
    "\n",
    "# Define a constant random state\n",
    "random_state = 12345\n",
    "\n",
    "# Split the data into training and testing sets\n",
    "features_train, features_test, target_train, target_test = train_test_split(features, target, test_size=0.4, random_state=random_state, stratify=target) # Stratify the target to ensure that the proportion of the target is the same in the training and testing sets\n",
    "\n",
    "# Split the test set into validation and test sets\n",
    "features_valid, features_test, target_valid, target_test = train_test_split(features_test, target_test, test_size=0.5, random_state=random_state, stratify=target_test) # Stratify the target to ensure that the proportion of the target is the same in the validation and test sets\n",
    "\n",
    "# Check the shapes of the data\n",
    "print(f\"features_train shape: {features_train.shape}\")\n",
    "print(f\"target_train shape: {target_train.shape}\")\n",
    "print(f\"features_valid shape: {features_valid.shape}\")\n",
    "print(f\"target_valid shape: {target_valid.shape}\")\n",
    "print(f\"features_test shape: {features_test.shape}\")\n",
    "print(f\"target_test shape: {target_test.shape}\")\n"
   ]
  },
  {
   "cell_type": "code",
   "execution_count": 26,
   "metadata": {},
   "outputs": [],
   "source": [
    "# Define columns for numerical scaling\n",
    "numerical_columns = ['CreditScore', 'Age', 'Tenure', 'Balance', 'NumOfProducts', 'EstimatedSalary']\n",
    "\n",
    "# Initialize the scaler\n",
    "scaler = StandardScaler()\n",
    "\n",
    "# Tune the scaler on the training data\n",
    "scaler.fit(features_train[numerical_columns])\n",
    "\n",
    "# Scale the training, validation, and test data\n",
    "features_train[numerical_columns] = scaler.transform(features_train[numerical_columns])\n",
    "features_valid[numerical_columns] = scaler.transform(features_valid[numerical_columns])\n",
    "features_test[numerical_columns] = scaler.transform(features_test[numerical_columns])\n"
   ]
  },
  {
   "cell_type": "markdown",
   "metadata": {},
   "source": [
    "# Train Models without Regard to Imbalance"
   ]
  },
  {
   "cell_type": "code",
   "execution_count": 27,
   "metadata": {},
   "outputs": [
    {
     "data": {
      "image/png": "[encoded data removed]",
      "text/plain": [
       "<Figure size 500x400 with 1 Axes>"
      ]
     },
     "metadata": {},
     "output_type": "display_data"
    },
    {
     "name": "stdout",
     "output_type": "stream",
     "text": [
      "{'DecisionTreeClassifier'}\n",
      "F1 Score: 0.5387755102040818\n",
      "AUC-ROC Score: 0.702131983446645\n"
     ]
    },
    {
     "data": {
      "image/png": "[encoded data removed]",
      "text/plain": [
       "<Figure size 500x400 with 1 Axes>"
      ]
     },
     "metadata": {},
     "output_type": "display_data"
    },
    {
     "name": "stdout",
     "output_type": "stream",
     "text": [
      "{'RandomForestClassifier'}\n",
      "F1 Score: 0.555921052631579\n",
      "AUC-ROC Score: 0.6973716622327324\n"
     ]
    },
    {
     "data": {
      "image/png": "[encoded data removed]",
      "text/plain": [
       "<Figure size 500x400 with 1 Axes>"
      ]
     },
     "metadata": {},
     "output_type": "display_data"
    },
    {
     "name": "stdout",
     "output_type": "stream",
     "text": [
      "{'LogisticRegression'}\n",
      "F1 Score: 0.325\n",
      "AUC-ROC Score: 0.5923613163858508\n"
     ]
    },
    {
     "data": {
      "text/plain": [
       "(0.325, 0.5923613163858508)"
      ]
     },
     "execution_count": 27,
     "metadata": {},
     "output_type": "execute_result"
    }
   ],
   "source": [
    "get_f1_auc_roc_and_plot(DecisionTreeClassifier, random_state, features_train, target_train, features_valid, target_valid)\n",
    "get_f1_auc_roc_and_plot(RandomForestClassifier, random_state, features_train, target_train, features_valid, target_valid)\n",
    "get_f1_auc_roc_and_plot(LogisticRegression, random_state, features_train, target_train, features_valid, target_valid)"
   ]
  },
  {
   "cell_type": "markdown",
   "metadata": {},
   "source": [
    "Decision Tree Classifier\n",
    "\n",
    "- ROC Curve: The Decision Tree’s ROC curve shows a significant lift above the line of randomness (dashed line) but with some fluctuations, indicating variability in how well it separates the classes at different thresholds.\n",
    "- F1 Score: 0.539 approximately, which is moderate. It suggests that the Decision Tree has a reasonable balance between precision and recall but isn’t highly effective, especially given the complexity that decision trees can capture.\n",
    "- AUC-ROC Score: 0.702, which is fairly good and suggests that the model has a decent capability to discriminate between the positive and negative classes.\n",
    "\n",
    "Random Forest Classifier\n",
    "\n",
    "- ROC Curve: The Random Forest ROC curve is smoother and closer to the top-left corner compared to the Decision Tree, indicating better and more consistent performance across different thresholds.\n",
    "- F1 Score: 0.556, which is slightly better than the Decision Tree, implying improvements in the balance between precision and recall.\n",
    "- AUC-ROC Score: 0.697, which is slightly below the Decision Tree. This score still indicates good discriminatory ability, though it suggests that some of the additional complexity of the Random Forest might not be translating into better predictive performance.\n",
    "\n",
    "Logistic Regression\n",
    "\n",
    "- ROC Curve: The Logistic Regression curve is smoother but lies closer to the line of randomness across most of the curve, suggesting weaker performance in distinguishing between the classes.\n",
    "- F1 Score: 0.325, significantly lower than the other two models, indicating poor performance in terms of precision and recall balance.\n",
    "- AUC-ROC Score: 0.592, which is close to random guessing compared to the other models, showing limited capability in discrimination.\n",
    "\n",
    "Conclusions\n",
    "\n",
    "1.\tOverall Performance: The Random Forest and Decision Tree models perform better than Logistic Regression in this case, with the Random Forest generally providing the best balance between F1 and AUC-ROC scores.\n",
    "2.\tModel Selection: Depending on the importance of either precision-recall balance (as reflected by the F1 score) or the overall ability to distinguish between classes (AUC-ROC), the Random Forest might be the preferred model given its slightly higher F1 score and comparable AUC-ROC score to the Decision Tree."
   ]
  },
  {
   "cell_type": "markdown",
   "metadata": {},
   "source": [
    "# Train Models with regard to Imbalance\n"
   ]
  },
  {
   "cell_type": "markdown",
   "metadata": {},
   "source": [
    "\n",
    "## Using the 'balanced' arguement\n",
    "\n",
    "### DecisionTreeClassifier"
   ]
  },
  {
   "cell_type": "code",
   "execution_count": 28,
   "metadata": {},
   "outputs": [],
   "source": [
    "results = pd.DataFrame(columns=['f1_score', 'auc_roc', 'model', 'params', 'algorithm', 'method'])"
   ]
  },
  {
   "cell_type": "code",
   "execution_count": 29,
   "metadata": {},
   "outputs": [],
   "source": [
    "# Ask if simple or deep tuning\n",
    "if input('Would you like to perform deep tuning? (y, or any other key): ').lower() == 'y':\n",
    "\n",
    "    decision_tree_params = {'max_depth': list(range(1, 21))+[None],\n",
    "                            'splitter': ['best'],\n",
    "                            'criterion': ['gini'],\n",
    "                            'min_samples_split': [2],\n",
    "                            'min_samples_leaf': [1, 2, 3],\n",
    "                            'max_features': [None, 'sqrt']}\n",
    "\n",
    "    random_forrest_params = {'n_estimators': list(range(100, 501, 100)),\n",
    "                            'criterion': ['gini'],\n",
    "                            'max_depth': [None],\n",
    "                            'min_samples_split': [2],\n",
    "                            'min_samples_leaf': [1, 2, 3],\n",
    "                            'max_features': ['sqrt']}\n",
    "\n",
    "    logistic_regression_params = {'duals': [False],\n",
    "                                'penalties': ['l2'],\n",
    "                                'solvers': ['liblinear'],\n",
    "                                'max_iter': list(range(100, 501, 100))}\n",
    "    \n",
    "else: #Empty dictionaries for simple tuning\n",
    "    decision_tree_params = {}\n",
    "    random_forrest_params = {}\n",
    "    logistic_regression_params = {}\n"
   ]
  },
  {
   "cell_type": "code",
   "execution_count": 30,
   "metadata": {},
   "outputs": [
    {
     "name": "stderr",
     "output_type": "stream",
     "text": [
      "Testing DecisionTreeClassifier Parameters: 100%|██████████| 126/126 [00:13<00:00,  9.18iterations/s]\n"
     ]
    }
   ],
   "source": [
    "\n",
    "results = update_results(results,\n",
    "                            validate_DecisionTreeClassifier(features_train, target_train, features_valid, target_valid, random_state, class_weight=['balanced'], **decision_tree_params),\n",
    "                            'balanced argument')"
   ]
  },
  {
   "cell_type": "code",
   "execution_count": 31,
   "metadata": {},
   "outputs": [
    {
     "data": {
      "text/html": [
       "<div>\n",
       "<style scoped>\n",
       "    .dataframe tbody tr th:only-of-type {\n",
       "        vertical-align: middle;\n",
       "    }\n",
       "\n",
       "    .dataframe tbody tr th {\n",
       "        vertical-align: top;\n",
       "    }\n",
       "\n",
       "    .dataframe thead th {\n",
       "        text-align: right;\n",
       "    }\n",
       "</style>\n",
       "<table border=\"1\" class=\"dataframe\">\n",
       "  <thead>\n",
       "    <tr style=\"text-align: right;\">\n",
       "      <th></th>\n",
       "      <th>f1_score</th>\n",
       "      <th>auc_roc</th>\n",
       "      <th>model</th>\n",
       "      <th>params</th>\n",
       "      <th>algorithm</th>\n",
       "      <th>method</th>\n",
       "    </tr>\n",
       "  </thead>\n",
       "  <tbody>\n",
       "    <tr>\n",
       "      <th>0</th>\n",
       "      <td>0.577491</td>\n",
       "      <td>0.769571</td>\n",
       "      <td>DecisionTreeClassifier(class_weight='balanced'...</td>\n",
       "      <td>{'class_weight': 'balanced', 'max_depth': 6, '...</td>\n",
       "      <td>DecisionTreeClassifier</td>\n",
       "      <td>balanced argument</td>\n",
       "    </tr>\n",
       "  </tbody>\n",
       "</table>\n",
       "</div>"
      ],
      "text/plain": [
       "   f1_score   auc_roc                                              model  \\\n",
       "0  0.577491  0.769571  DecisionTreeClassifier(class_weight='balanced'...   \n",
       "\n",
       "                                              params               algorithm  \\\n",
       "0  {'class_weight': 'balanced', 'max_depth': 6, '...  DecisionTreeClassifier   \n",
       "\n",
       "              method  \n",
       "0  balanced argument  "
      ]
     },
     "metadata": {},
     "output_type": "display_data"
    }
   ],
   "source": [
    "display(results)"
   ]
  },
  {
   "cell_type": "markdown",
   "metadata": {},
   "source": [
    "### RandomForrest"
   ]
  },
  {
   "cell_type": "code",
   "execution_count": 32,
   "metadata": {},
   "outputs": [
    {
     "name": "stderr",
     "output_type": "stream",
     "text": [
      "Testing RandomForestClassifier Parameters: 100%|██████████| 15/15 [01:22<00:00,  5.51s/iterations]\n"
     ]
    }
   ],
   "source": [
    "results = update_results(results, validate_RandomForrest(features_train, target_train, features_valid, target_valid,class_weight=['balanced'], **random_forrest_params), 'balanced argument')\n"
   ]
  },
  {
   "cell_type": "code",
   "execution_count": 33,
   "metadata": {},
   "outputs": [
    {
     "data": {
      "text/html": [
       "<div>\n",
       "<style scoped>\n",
       "    .dataframe tbody tr th:only-of-type {\n",
       "        vertical-align: middle;\n",
       "    }\n",
       "\n",
       "    .dataframe tbody tr th {\n",
       "        vertical-align: top;\n",
       "    }\n",
       "\n",
       "    .dataframe thead th {\n",
       "        text-align: right;\n",
       "    }\n",
       "</style>\n",
       "<table border=\"1\" class=\"dataframe\">\n",
       "  <thead>\n",
       "    <tr style=\"text-align: right;\">\n",
       "      <th></th>\n",
       "      <th>f1_score</th>\n",
       "      <th>auc_roc</th>\n",
       "      <th>model</th>\n",
       "      <th>params</th>\n",
       "      <th>algorithm</th>\n",
       "      <th>method</th>\n",
       "    </tr>\n",
       "  </thead>\n",
       "  <tbody>\n",
       "    <tr>\n",
       "      <th>0</th>\n",
       "      <td>0.577491</td>\n",
       "      <td>0.769571</td>\n",
       "      <td>DecisionTreeClassifier(class_weight='balanced'...</td>\n",
       "      <td>{'class_weight': 'balanced', 'max_depth': 6, '...</td>\n",
       "      <td>DecisionTreeClassifier</td>\n",
       "      <td>balanced argument</td>\n",
       "    </tr>\n",
       "    <tr>\n",
       "      <th>1</th>\n",
       "      <td>0.598058</td>\n",
       "      <td>0.778833</td>\n",
       "      <td>(DecisionTreeClassifier(max_features='sqrt', m...</td>\n",
       "      <td>{'class_weight': 'balanced', 'n_estimators': 1...</td>\n",
       "      <td>RandomForrestClassifier</td>\n",
       "      <td>balanced argument</td>\n",
       "    </tr>\n",
       "  </tbody>\n",
       "</table>\n",
       "</div>"
      ],
      "text/plain": [
       "   f1_score   auc_roc                                              model  \\\n",
       "0  0.577491  0.769571  DecisionTreeClassifier(class_weight='balanced'...   \n",
       "1  0.598058  0.778833  (DecisionTreeClassifier(max_features='sqrt', m...   \n",
       "\n",
       "                                              params                algorithm  \\\n",
       "0  {'class_weight': 'balanced', 'max_depth': 6, '...   DecisionTreeClassifier   \n",
       "1  {'class_weight': 'balanced', 'n_estimators': 1...  RandomForrestClassifier   \n",
       "\n",
       "              method  \n",
       "0  balanced argument  \n",
       "1  balanced argument  "
      ]
     },
     "metadata": {},
     "output_type": "display_data"
    }
   ],
   "source": [
    "display(results)"
   ]
  },
  {
   "cell_type": "markdown",
   "metadata": {},
   "source": [
    "### LogisticRegression"
   ]
  },
  {
   "cell_type": "code",
   "execution_count": 34,
   "metadata": {},
   "outputs": [
    {
     "name": "stderr",
     "output_type": "stream",
     "text": [
      "Testing LogisticRegression Parameters: 5iterations [00:01,  4.28iterations/s]               \n"
     ]
    }
   ],
   "source": [
    "results = update_results(results, validate_LogisticRegression(features_train, target_train, features_valid, target_valid, random_state=random_state, class_weight=['balanced'], **logistic_regression_params), 'balanced argument')"
   ]
  },
  {
   "cell_type": "code",
   "execution_count": 35,
   "metadata": {},
   "outputs": [
    {
     "data": {
      "text/html": [
       "<div>\n",
       "<style scoped>\n",
       "    .dataframe tbody tr th:only-of-type {\n",
       "        vertical-align: middle;\n",
       "    }\n",
       "\n",
       "    .dataframe tbody tr th {\n",
       "        vertical-align: top;\n",
       "    }\n",
       "\n",
       "    .dataframe thead th {\n",
       "        text-align: right;\n",
       "    }\n",
       "</style>\n",
       "<table border=\"1\" class=\"dataframe\">\n",
       "  <thead>\n",
       "    <tr style=\"text-align: right;\">\n",
       "      <th></th>\n",
       "      <th>f1_score</th>\n",
       "      <th>auc_roc</th>\n",
       "      <th>model</th>\n",
       "      <th>params</th>\n",
       "      <th>algorithm</th>\n",
       "      <th>method</th>\n",
       "    </tr>\n",
       "  </thead>\n",
       "  <tbody>\n",
       "    <tr>\n",
       "      <th>0</th>\n",
       "      <td>0.577491</td>\n",
       "      <td>0.769571</td>\n",
       "      <td>DecisionTreeClassifier(class_weight='balanced'...</td>\n",
       "      <td>{'class_weight': 'balanced', 'max_depth': 6, '...</td>\n",
       "      <td>DecisionTreeClassifier</td>\n",
       "      <td>balanced argument</td>\n",
       "    </tr>\n",
       "    <tr>\n",
       "      <th>1</th>\n",
       "      <td>0.598058</td>\n",
       "      <td>0.778833</td>\n",
       "      <td>(DecisionTreeClassifier(max_features='sqrt', m...</td>\n",
       "      <td>{'class_weight': 'balanced', 'n_estimators': 1...</td>\n",
       "      <td>RandomForrestClassifier</td>\n",
       "      <td>balanced argument</td>\n",
       "    </tr>\n",
       "    <tr>\n",
       "      <th>2</th>\n",
       "      <td>0.494767</td>\n",
       "      <td>0.698339</td>\n",
       "      <td>LogisticRegression(class_weight='balanced', ra...</td>\n",
       "      <td>{'class_weight': 'balanced', 'solver': 'liblin...</td>\n",
       "      <td>LogisticRegression</td>\n",
       "      <td>balanced argument</td>\n",
       "    </tr>\n",
       "  </tbody>\n",
       "</table>\n",
       "</div>"
      ],
      "text/plain": [
       "   f1_score   auc_roc                                              model  \\\n",
       "0  0.577491  0.769571  DecisionTreeClassifier(class_weight='balanced'...   \n",
       "1  0.598058  0.778833  (DecisionTreeClassifier(max_features='sqrt', m...   \n",
       "2  0.494767  0.698339  LogisticRegression(class_weight='balanced', ra...   \n",
       "\n",
       "                                              params                algorithm  \\\n",
       "0  {'class_weight': 'balanced', 'max_depth': 6, '...   DecisionTreeClassifier   \n",
       "1  {'class_weight': 'balanced', 'n_estimators': 1...  RandomForrestClassifier   \n",
       "2  {'class_weight': 'balanced', 'solver': 'liblin...       LogisticRegression   \n",
       "\n",
       "              method  \n",
       "0  balanced argument  \n",
       "1  balanced argument  \n",
       "2  balanced argument  "
      ]
     },
     "metadata": {},
     "output_type": "display_data"
    }
   ],
   "source": [
    "display(results)"
   ]
  },
  {
   "cell_type": "markdown",
   "metadata": {},
   "source": []
  },
  {
   "cell_type": "markdown",
   "metadata": {},
   "source": [
    "## Upsampling"
   ]
  },
  {
   "cell_type": "code",
   "execution_count": 36,
   "metadata": {},
   "outputs": [
    {
     "name": "stdout",
     "output_type": "stream",
     "text": [
      "Exited\n",
      "0    4778\n",
      "1    1222\n",
      "Name: count, dtype: int64\n"
     ]
    }
   ],
   "source": [
    "print(target_train.value_counts())"
   ]
  },
  {
   "cell_type": "code",
   "execution_count": 37,
   "metadata": {},
   "outputs": [],
   "source": [
    "features_upsampled, target_upsampled = upsample(features_train, target_train, 3, random_state)"
   ]
  },
  {
   "cell_type": "code",
   "execution_count": 38,
   "metadata": {},
   "outputs": [
    {
     "name": "stdout",
     "output_type": "stream",
     "text": [
      "Exited\n",
      "0    4778\n",
      "1    3666\n",
      "Name: count, dtype: int64\n"
     ]
    }
   ],
   "source": [
    "print(target_upsampled.value_counts())"
   ]
  },
  {
   "cell_type": "markdown",
   "metadata": {},
   "source": [
    "### DecisionTreeClassifier"
   ]
  },
  {
   "cell_type": "code",
   "execution_count": 39,
   "metadata": {},
   "outputs": [
    {
     "name": "stderr",
     "output_type": "stream",
     "text": [
      "Testing DecisionTreeClassifier Parameters: 100%|██████████| 126/126 [00:18<00:00,  6.86iterations/s]\n"
     ]
    }
   ],
   "source": [
    "results = update_results(results, validate_DecisionTreeClassifier(features_upsampled, target_upsampled, features_valid, target_valid, random_state, **decision_tree_params), 'upsampling')"
   ]
  },
  {
   "cell_type": "code",
   "execution_count": 40,
   "metadata": {},
   "outputs": [
    {
     "data": {
      "text/html": [
       "<div>\n",
       "<style scoped>\n",
       "    .dataframe tbody tr th:only-of-type {\n",
       "        vertical-align: middle;\n",
       "    }\n",
       "\n",
       "    .dataframe tbody tr th {\n",
       "        vertical-align: top;\n",
       "    }\n",
       "\n",
       "    .dataframe thead th {\n",
       "        text-align: right;\n",
       "    }\n",
       "</style>\n",
       "<table border=\"1\" class=\"dataframe\">\n",
       "  <thead>\n",
       "    <tr style=\"text-align: right;\">\n",
       "      <th></th>\n",
       "      <th>f1_score</th>\n",
       "      <th>auc_roc</th>\n",
       "      <th>model</th>\n",
       "      <th>params</th>\n",
       "      <th>algorithm</th>\n",
       "      <th>method</th>\n",
       "    </tr>\n",
       "  </thead>\n",
       "  <tbody>\n",
       "    <tr>\n",
       "      <th>0</th>\n",
       "      <td>0.577491</td>\n",
       "      <td>0.769571</td>\n",
       "      <td>DecisionTreeClassifier(class_weight='balanced'...</td>\n",
       "      <td>{'class_weight': 'balanced', 'max_depth': 6, '...</td>\n",
       "      <td>DecisionTreeClassifier</td>\n",
       "      <td>balanced argument</td>\n",
       "    </tr>\n",
       "    <tr>\n",
       "      <th>3</th>\n",
       "      <td>0.606452</td>\n",
       "      <td>0.770211</td>\n",
       "      <td>DecisionTreeClassifier(max_depth=7, min_sample...</td>\n",
       "      <td>{'class_weight': None, 'max_depth': 7, 'splitt...</td>\n",
       "      <td>DecisionTreeClassifier</td>\n",
       "      <td>upsampling</td>\n",
       "    </tr>\n",
       "  </tbody>\n",
       "</table>\n",
       "</div>"
      ],
      "text/plain": [
       "   f1_score   auc_roc                                              model  \\\n",
       "0  0.577491  0.769571  DecisionTreeClassifier(class_weight='balanced'...   \n",
       "3  0.606452  0.770211  DecisionTreeClassifier(max_depth=7, min_sample...   \n",
       "\n",
       "                                              params               algorithm  \\\n",
       "0  {'class_weight': 'balanced', 'max_depth': 6, '...  DecisionTreeClassifier   \n",
       "3  {'class_weight': None, 'max_depth': 7, 'splitt...  DecisionTreeClassifier   \n",
       "\n",
       "              method  \n",
       "0  balanced argument  \n",
       "3         upsampling  "
      ]
     },
     "metadata": {},
     "output_type": "display_data"
    }
   ],
   "source": [
    "display(results[results['algorithm'] == 'DecisionTreeClassifier'])"
   ]
  },
  {
   "cell_type": "markdown",
   "metadata": {},
   "source": [
    "Moderately better performance on DecisionTreeClassifier"
   ]
  },
  {
   "cell_type": "markdown",
   "metadata": {},
   "source": [
    "### RandomForrestClassifier"
   ]
  },
  {
   "cell_type": "code",
   "execution_count": 41,
   "metadata": {},
   "outputs": [
    {
     "name": "stderr",
     "output_type": "stream",
     "text": [
      "Testing RandomForestClassifier Parameters: 100%|██████████| 15/15 [02:15<00:00,  9.06s/iterations]\n"
     ]
    }
   ],
   "source": [
    "results = update_results(results, validate_RandomForrest(features_upsampled, target_upsampled, features_valid, target_valid, **random_forrest_params), 'upsampling')"
   ]
  },
  {
   "cell_type": "code",
   "execution_count": 42,
   "metadata": {},
   "outputs": [
    {
     "data": {
      "text/html": [
       "<div>\n",
       "<style scoped>\n",
       "    .dataframe tbody tr th:only-of-type {\n",
       "        vertical-align: middle;\n",
       "    }\n",
       "\n",
       "    .dataframe tbody tr th {\n",
       "        vertical-align: top;\n",
       "    }\n",
       "\n",
       "    .dataframe thead th {\n",
       "        text-align: right;\n",
       "    }\n",
       "</style>\n",
       "<table border=\"1\" class=\"dataframe\">\n",
       "  <thead>\n",
       "    <tr style=\"text-align: right;\">\n",
       "      <th></th>\n",
       "      <th>f1_score</th>\n",
       "      <th>auc_roc</th>\n",
       "      <th>model</th>\n",
       "      <th>params</th>\n",
       "      <th>algorithm</th>\n",
       "      <th>method</th>\n",
       "    </tr>\n",
       "  </thead>\n",
       "  <tbody>\n",
       "    <tr>\n",
       "      <th>1</th>\n",
       "      <td>0.598058</td>\n",
       "      <td>0.778833</td>\n",
       "      <td>(DecisionTreeClassifier(max_features='sqrt', m...</td>\n",
       "      <td>{'class_weight': 'balanced', 'n_estimators': 1...</td>\n",
       "      <td>RandomForrestClassifier</td>\n",
       "      <td>balanced argument</td>\n",
       "    </tr>\n",
       "    <tr>\n",
       "      <th>4</th>\n",
       "      <td>0.623244</td>\n",
       "      <td>0.757876</td>\n",
       "      <td>(DecisionTreeClassifier(max_features='sqrt', m...</td>\n",
       "      <td>{'class_weight': None, 'n_estimators': 300, 'c...</td>\n",
       "      <td>RandomForrestClassifier</td>\n",
       "      <td>upsampling</td>\n",
       "    </tr>\n",
       "  </tbody>\n",
       "</table>\n",
       "</div>"
      ],
      "text/plain": [
       "   f1_score   auc_roc                                              model  \\\n",
       "1  0.598058  0.778833  (DecisionTreeClassifier(max_features='sqrt', m...   \n",
       "4  0.623244  0.757876  (DecisionTreeClassifier(max_features='sqrt', m...   \n",
       "\n",
       "                                              params                algorithm  \\\n",
       "1  {'class_weight': 'balanced', 'n_estimators': 1...  RandomForrestClassifier   \n",
       "4  {'class_weight': None, 'n_estimators': 300, 'c...  RandomForrestClassifier   \n",
       "\n",
       "              method  \n",
       "1  balanced argument  \n",
       "4         upsampling  "
      ]
     },
     "metadata": {},
     "output_type": "display_data"
    }
   ],
   "source": [
    "display(results[results['algorithm'] == 'RandomForrestClassifier'])"
   ]
  },
  {
   "cell_type": "markdown",
   "metadata": {},
   "source": [
    "### LogisticRegression"
   ]
  },
  {
   "cell_type": "code",
   "execution_count": 43,
   "metadata": {},
   "outputs": [
    {
     "name": "stderr",
     "output_type": "stream",
     "text": [
      "Testing LogisticRegression Parameters: 5iterations [00:01,  3.35iterations/s]               \n"
     ]
    }
   ],
   "source": [
    "results = update_results(results, validate_LogisticRegression(features_upsampled, target_upsampled, features_valid, target_valid, random_state=random_state, **logistic_regression_params), 'upsampling')"
   ]
  },
  {
   "cell_type": "code",
   "execution_count": 44,
   "metadata": {},
   "outputs": [
    {
     "data": {
      "text/html": [
       "<div>\n",
       "<style scoped>\n",
       "    .dataframe tbody tr th:only-of-type {\n",
       "        vertical-align: middle;\n",
       "    }\n",
       "\n",
       "    .dataframe tbody tr th {\n",
       "        vertical-align: top;\n",
       "    }\n",
       "\n",
       "    .dataframe thead th {\n",
       "        text-align: right;\n",
       "    }\n",
       "</style>\n",
       "<table border=\"1\" class=\"dataframe\">\n",
       "  <thead>\n",
       "    <tr style=\"text-align: right;\">\n",
       "      <th></th>\n",
       "      <th>f1_score</th>\n",
       "      <th>auc_roc</th>\n",
       "      <th>model</th>\n",
       "      <th>params</th>\n",
       "      <th>algorithm</th>\n",
       "      <th>method</th>\n",
       "    </tr>\n",
       "  </thead>\n",
       "  <tbody>\n",
       "    <tr>\n",
       "      <th>2</th>\n",
       "      <td>0.494767</td>\n",
       "      <td>0.698339</td>\n",
       "      <td>LogisticRegression(class_weight='balanced', ra...</td>\n",
       "      <td>{'class_weight': 'balanced', 'solver': 'liblin...</td>\n",
       "      <td>LogisticRegression</td>\n",
       "      <td>balanced argument</td>\n",
       "    </tr>\n",
       "    <tr>\n",
       "      <th>5</th>\n",
       "      <td>0.469055</td>\n",
       "      <td>0.671427</td>\n",
       "      <td>LogisticRegression(random_state=12345, solver=...</td>\n",
       "      <td>{'class_weight': None, 'solver': 'liblinear', ...</td>\n",
       "      <td>LogisticRegression</td>\n",
       "      <td>upsampling</td>\n",
       "    </tr>\n",
       "  </tbody>\n",
       "</table>\n",
       "</div>"
      ],
      "text/plain": [
       "   f1_score   auc_roc                                              model  \\\n",
       "2  0.494767  0.698339  LogisticRegression(class_weight='balanced', ra...   \n",
       "5  0.469055  0.671427  LogisticRegression(random_state=12345, solver=...   \n",
       "\n",
       "                                              params           algorithm  \\\n",
       "2  {'class_weight': 'balanced', 'solver': 'liblin...  LogisticRegression   \n",
       "5  {'class_weight': None, 'solver': 'liblinear', ...  LogisticRegression   \n",
       "\n",
       "              method  \n",
       "2  balanced argument  \n",
       "5         upsampling  "
      ]
     },
     "metadata": {},
     "output_type": "display_data"
    }
   ],
   "source": [
    "display(results[results['algorithm'] == 'LogisticRegression'])"
   ]
  },
  {
   "cell_type": "code",
   "execution_count": 45,
   "metadata": {},
   "outputs": [
    {
     "data": {
      "text/html": [
       "<div>\n",
       "<style scoped>\n",
       "    .dataframe tbody tr th:only-of-type {\n",
       "        vertical-align: middle;\n",
       "    }\n",
       "\n",
       "    .dataframe tbody tr th {\n",
       "        vertical-align: top;\n",
       "    }\n",
       "\n",
       "    .dataframe thead th {\n",
       "        text-align: right;\n",
       "    }\n",
       "</style>\n",
       "<table border=\"1\" class=\"dataframe\">\n",
       "  <thead>\n",
       "    <tr style=\"text-align: right;\">\n",
       "      <th></th>\n",
       "      <th>f1_score</th>\n",
       "      <th>auc_roc</th>\n",
       "      <th>model</th>\n",
       "      <th>params</th>\n",
       "      <th>algorithm</th>\n",
       "      <th>method</th>\n",
       "    </tr>\n",
       "  </thead>\n",
       "  <tbody>\n",
       "    <tr>\n",
       "      <th>0</th>\n",
       "      <td>0.577491</td>\n",
       "      <td>0.769571</td>\n",
       "      <td>DecisionTreeClassifier(class_weight='balanced'...</td>\n",
       "      <td>{'class_weight': 'balanced', 'max_depth': 6, '...</td>\n",
       "      <td>DecisionTreeClassifier</td>\n",
       "      <td>balanced argument</td>\n",
       "    </tr>\n",
       "    <tr>\n",
       "      <th>1</th>\n",
       "      <td>0.598058</td>\n",
       "      <td>0.778833</td>\n",
       "      <td>(DecisionTreeClassifier(max_features='sqrt', m...</td>\n",
       "      <td>{'class_weight': 'balanced', 'n_estimators': 1...</td>\n",
       "      <td>RandomForrestClassifier</td>\n",
       "      <td>balanced argument</td>\n",
       "    </tr>\n",
       "    <tr>\n",
       "      <th>2</th>\n",
       "      <td>0.494767</td>\n",
       "      <td>0.698339</td>\n",
       "      <td>LogisticRegression(class_weight='balanced', ra...</td>\n",
       "      <td>{'class_weight': 'balanced', 'solver': 'liblin...</td>\n",
       "      <td>LogisticRegression</td>\n",
       "      <td>balanced argument</td>\n",
       "    </tr>\n",
       "    <tr>\n",
       "      <th>3</th>\n",
       "      <td>0.606452</td>\n",
       "      <td>0.770211</td>\n",
       "      <td>DecisionTreeClassifier(max_depth=7, min_sample...</td>\n",
       "      <td>{'class_weight': None, 'max_depth': 7, 'splitt...</td>\n",
       "      <td>DecisionTreeClassifier</td>\n",
       "      <td>upsampling</td>\n",
       "    </tr>\n",
       "    <tr>\n",
       "      <th>4</th>\n",
       "      <td>0.623244</td>\n",
       "      <td>0.757876</td>\n",
       "      <td>(DecisionTreeClassifier(max_features='sqrt', m...</td>\n",
       "      <td>{'class_weight': None, 'n_estimators': 300, 'c...</td>\n",
       "      <td>RandomForrestClassifier</td>\n",
       "      <td>upsampling</td>\n",
       "    </tr>\n",
       "    <tr>\n",
       "      <th>5</th>\n",
       "      <td>0.469055</td>\n",
       "      <td>0.671427</td>\n",
       "      <td>LogisticRegression(random_state=12345, solver=...</td>\n",
       "      <td>{'class_weight': None, 'solver': 'liblinear', ...</td>\n",
       "      <td>LogisticRegression</td>\n",
       "      <td>upsampling</td>\n",
       "    </tr>\n",
       "  </tbody>\n",
       "</table>\n",
       "</div>"
      ],
      "text/plain": [
       "   f1_score   auc_roc                                              model  \\\n",
       "0  0.577491  0.769571  DecisionTreeClassifier(class_weight='balanced'...   \n",
       "1  0.598058  0.778833  (DecisionTreeClassifier(max_features='sqrt', m...   \n",
       "2  0.494767  0.698339  LogisticRegression(class_weight='balanced', ra...   \n",
       "3  0.606452  0.770211  DecisionTreeClassifier(max_depth=7, min_sample...   \n",
       "4  0.623244  0.757876  (DecisionTreeClassifier(max_features='sqrt', m...   \n",
       "5  0.469055  0.671427  LogisticRegression(random_state=12345, solver=...   \n",
       "\n",
       "                                              params                algorithm  \\\n",
       "0  {'class_weight': 'balanced', 'max_depth': 6, '...   DecisionTreeClassifier   \n",
       "1  {'class_weight': 'balanced', 'n_estimators': 1...  RandomForrestClassifier   \n",
       "2  {'class_weight': 'balanced', 'solver': 'liblin...       LogisticRegression   \n",
       "3  {'class_weight': None, 'max_depth': 7, 'splitt...   DecisionTreeClassifier   \n",
       "4  {'class_weight': None, 'n_estimators': 300, 'c...  RandomForrestClassifier   \n",
       "5  {'class_weight': None, 'solver': 'liblinear', ...       LogisticRegression   \n",
       "\n",
       "              method  \n",
       "0  balanced argument  \n",
       "1  balanced argument  \n",
       "2  balanced argument  \n",
       "3         upsampling  \n",
       "4         upsampling  \n",
       "5         upsampling  "
      ]
     },
     "metadata": {},
     "output_type": "display_data"
    }
   ],
   "source": [
    "display(results)"
   ]
  },
  {
   "cell_type": "markdown",
   "metadata": {},
   "source": [
    "## Using the Downsample Method"
   ]
  },
  {
   "cell_type": "code",
   "execution_count": 46,
   "metadata": {},
   "outputs": [
    {
     "data": {
      "text/plain": [
       "Exited\n",
       "0    4778\n",
       "1    1222\n",
       "Name: count, dtype: int64"
      ]
     },
     "execution_count": 46,
     "metadata": {},
     "output_type": "execute_result"
    }
   ],
   "source": [
    "target_train.value_counts()"
   ]
  },
  {
   "cell_type": "code",
   "execution_count": 47,
   "metadata": {},
   "outputs": [
    {
     "name": "stdout",
     "output_type": "stream",
     "text": [
      "Exited\n",
      "0    1433\n",
      "1    1222\n",
      "Name: count, dtype: int64\n"
     ]
    }
   ],
   "source": [
    "features_downsampled, target_downsampled = downsample(features_train, target_train, 0.3, random_state)\n",
    "\n",
    "print(target_downsampled.value_counts())"
   ]
  },
  {
   "cell_type": "markdown",
   "metadata": {},
   "source": [
    "### DecisionTreeClassifier"
   ]
  },
  {
   "cell_type": "code",
   "execution_count": 48,
   "metadata": {},
   "outputs": [
    {
     "name": "stderr",
     "output_type": "stream",
     "text": [
      "Testing DecisionTreeClassifier Parameters: 100%|██████████| 126/126 [00:06<00:00, 20.64iterations/s]\n"
     ]
    }
   ],
   "source": [
    "results = update_results(results, validate_DecisionTreeClassifier(features_downsampled, target_downsampled, features_valid, target_valid, random_state, **decision_tree_params), 'downsampling')"
   ]
  },
  {
   "cell_type": "code",
   "execution_count": 49,
   "metadata": {},
   "outputs": [
    {
     "data": {
      "text/html": [
       "<div>\n",
       "<style scoped>\n",
       "    .dataframe tbody tr th:only-of-type {\n",
       "        vertical-align: middle;\n",
       "    }\n",
       "\n",
       "    .dataframe tbody tr th {\n",
       "        vertical-align: top;\n",
       "    }\n",
       "\n",
       "    .dataframe thead th {\n",
       "        text-align: right;\n",
       "    }\n",
       "</style>\n",
       "<table border=\"1\" class=\"dataframe\">\n",
       "  <thead>\n",
       "    <tr style=\"text-align: right;\">\n",
       "      <th></th>\n",
       "      <th>f1_score</th>\n",
       "      <th>auc_roc</th>\n",
       "      <th>model</th>\n",
       "      <th>params</th>\n",
       "      <th>algorithm</th>\n",
       "      <th>method</th>\n",
       "    </tr>\n",
       "  </thead>\n",
       "  <tbody>\n",
       "    <tr>\n",
       "      <th>0</th>\n",
       "      <td>0.577491</td>\n",
       "      <td>0.769571</td>\n",
       "      <td>DecisionTreeClassifier(class_weight='balanced'...</td>\n",
       "      <td>{'class_weight': 'balanced', 'max_depth': 6, '...</td>\n",
       "      <td>DecisionTreeClassifier</td>\n",
       "      <td>balanced argument</td>\n",
       "    </tr>\n",
       "    <tr>\n",
       "      <th>3</th>\n",
       "      <td>0.606452</td>\n",
       "      <td>0.770211</td>\n",
       "      <td>DecisionTreeClassifier(max_depth=7, min_sample...</td>\n",
       "      <td>{'class_weight': None, 'max_depth': 7, 'splitt...</td>\n",
       "      <td>DecisionTreeClassifier</td>\n",
       "      <td>upsampling</td>\n",
       "    </tr>\n",
       "    <tr>\n",
       "      <th>6</th>\n",
       "      <td>0.615842</td>\n",
       "      <td>0.789733</td>\n",
       "      <td>DecisionTreeClassifier(max_depth=6, random_sta...</td>\n",
       "      <td>{'class_weight': None, 'max_depth': 6, 'splitt...</td>\n",
       "      <td>DecisionTreeClassifier</td>\n",
       "      <td>downsampling</td>\n",
       "    </tr>\n",
       "  </tbody>\n",
       "</table>\n",
       "</div>"
      ],
      "text/plain": [
       "   f1_score   auc_roc                                              model  \\\n",
       "0  0.577491  0.769571  DecisionTreeClassifier(class_weight='balanced'...   \n",
       "3  0.606452  0.770211  DecisionTreeClassifier(max_depth=7, min_sample...   \n",
       "6  0.615842  0.789733  DecisionTreeClassifier(max_depth=6, random_sta...   \n",
       "\n",
       "                                              params               algorithm  \\\n",
       "0  {'class_weight': 'balanced', 'max_depth': 6, '...  DecisionTreeClassifier   \n",
       "3  {'class_weight': None, 'max_depth': 7, 'splitt...  DecisionTreeClassifier   \n",
       "6  {'class_weight': None, 'max_depth': 6, 'splitt...  DecisionTreeClassifier   \n",
       "\n",
       "              method  \n",
       "0  balanced argument  \n",
       "3         upsampling  \n",
       "6       downsampling  "
      ]
     },
     "metadata": {},
     "output_type": "display_data"
    }
   ],
   "source": [
    "display(results[results['algorithm'] == 'DecisionTreeClassifier'])"
   ]
  },
  {
   "cell_type": "markdown",
   "metadata": {},
   "source": [
    "### RandomForrestClassifier"
   ]
  },
  {
   "cell_type": "code",
   "execution_count": 50,
   "metadata": {},
   "outputs": [
    {
     "name": "stderr",
     "output_type": "stream",
     "text": [
      "Testing RandomForestClassifier Parameters: 100%|██████████| 15/15 [00:28<00:00,  1.89s/iterations]\n"
     ]
    }
   ],
   "source": [
    "results = update_results(results, validate_RandomForrest(features_downsampled, target_downsampled, features_valid, target_valid, **random_forrest_params), 'downsampling')"
   ]
  },
  {
   "cell_type": "code",
   "execution_count": 51,
   "metadata": {},
   "outputs": [
    {
     "data": {
      "text/html": [
       "<div>\n",
       "<style scoped>\n",
       "    .dataframe tbody tr th:only-of-type {\n",
       "        vertical-align: middle;\n",
       "    }\n",
       "\n",
       "    .dataframe tbody tr th {\n",
       "        vertical-align: top;\n",
       "    }\n",
       "\n",
       "    .dataframe thead th {\n",
       "        text-align: right;\n",
       "    }\n",
       "</style>\n",
       "<table border=\"1\" class=\"dataframe\">\n",
       "  <thead>\n",
       "    <tr style=\"text-align: right;\">\n",
       "      <th></th>\n",
       "      <th>f1_score</th>\n",
       "      <th>auc_roc</th>\n",
       "      <th>model</th>\n",
       "      <th>params</th>\n",
       "      <th>algorithm</th>\n",
       "      <th>method</th>\n",
       "    </tr>\n",
       "  </thead>\n",
       "  <tbody>\n",
       "    <tr>\n",
       "      <th>1</th>\n",
       "      <td>0.598058</td>\n",
       "      <td>0.778833</td>\n",
       "      <td>(DecisionTreeClassifier(max_features='sqrt', m...</td>\n",
       "      <td>{'class_weight': 'balanced', 'n_estimators': 1...</td>\n",
       "      <td>RandomForrestClassifier</td>\n",
       "      <td>balanced argument</td>\n",
       "    </tr>\n",
       "    <tr>\n",
       "      <th>4</th>\n",
       "      <td>0.623244</td>\n",
       "      <td>0.757876</td>\n",
       "      <td>(DecisionTreeClassifier(max_features='sqrt', m...</td>\n",
       "      <td>{'class_weight': None, 'n_estimators': 300, 'c...</td>\n",
       "      <td>RandomForrestClassifier</td>\n",
       "      <td>upsampling</td>\n",
       "    </tr>\n",
       "    <tr>\n",
       "      <th>7</th>\n",
       "      <td>0.631470</td>\n",
       "      <td>0.794315</td>\n",
       "      <td>(DecisionTreeClassifier(max_features='sqrt', r...</td>\n",
       "      <td>{'class_weight': None, 'n_estimators': 500, 'c...</td>\n",
       "      <td>RandomForrestClassifier</td>\n",
       "      <td>downsampling</td>\n",
       "    </tr>\n",
       "  </tbody>\n",
       "</table>\n",
       "</div>"
      ],
      "text/plain": [
       "   f1_score   auc_roc                                              model  \\\n",
       "1  0.598058  0.778833  (DecisionTreeClassifier(max_features='sqrt', m...   \n",
       "4  0.623244  0.757876  (DecisionTreeClassifier(max_features='sqrt', m...   \n",
       "7  0.631470  0.794315  (DecisionTreeClassifier(max_features='sqrt', r...   \n",
       "\n",
       "                                              params                algorithm  \\\n",
       "1  {'class_weight': 'balanced', 'n_estimators': 1...  RandomForrestClassifier   \n",
       "4  {'class_weight': None, 'n_estimators': 300, 'c...  RandomForrestClassifier   \n",
       "7  {'class_weight': None, 'n_estimators': 500, 'c...  RandomForrestClassifier   \n",
       "\n",
       "              method  \n",
       "1  balanced argument  \n",
       "4         upsampling  \n",
       "7       downsampling  "
      ]
     },
     "metadata": {},
     "output_type": "display_data"
    }
   ],
   "source": [
    "display(results[results['algorithm'] == 'RandomForrestClassifier'])"
   ]
  },
  {
   "cell_type": "markdown",
   "metadata": {},
   "source": [
    "### LogisticRegression"
   ]
  },
  {
   "cell_type": "code",
   "execution_count": 52,
   "metadata": {},
   "outputs": [
    {
     "name": "stderr",
     "output_type": "stream",
     "text": [
      "Testing LogisticRegression Parameters: 5iterations [00:00,  9.52iterations/s]       \n"
     ]
    }
   ],
   "source": [
    "results = update_results(results, validate_LogisticRegression(features_downsampled, target_downsampled, features_valid, target_valid, random_state=random_state, **logistic_regression_params), 'downsampling')"
   ]
  },
  {
   "cell_type": "code",
   "execution_count": 53,
   "metadata": {},
   "outputs": [
    {
     "data": {
      "text/html": [
       "<div>\n",
       "<style scoped>\n",
       "    .dataframe tbody tr th:only-of-type {\n",
       "        vertical-align: middle;\n",
       "    }\n",
       "\n",
       "    .dataframe tbody tr th {\n",
       "        vertical-align: top;\n",
       "    }\n",
       "\n",
       "    .dataframe thead th {\n",
       "        text-align: right;\n",
       "    }\n",
       "</style>\n",
       "<table border=\"1\" class=\"dataframe\">\n",
       "  <thead>\n",
       "    <tr style=\"text-align: right;\">\n",
       "      <th></th>\n",
       "      <th>f1_score</th>\n",
       "      <th>auc_roc</th>\n",
       "      <th>model</th>\n",
       "      <th>params</th>\n",
       "      <th>algorithm</th>\n",
       "      <th>method</th>\n",
       "    </tr>\n",
       "  </thead>\n",
       "  <tbody>\n",
       "    <tr>\n",
       "      <th>2</th>\n",
       "      <td>0.494767</td>\n",
       "      <td>0.698339</td>\n",
       "      <td>LogisticRegression(class_weight='balanced', ra...</td>\n",
       "      <td>{'class_weight': 'balanced', 'solver': 'liblin...</td>\n",
       "      <td>LogisticRegression</td>\n",
       "      <td>balanced argument</td>\n",
       "    </tr>\n",
       "    <tr>\n",
       "      <th>5</th>\n",
       "      <td>0.469055</td>\n",
       "      <td>0.671427</td>\n",
       "      <td>LogisticRegression(random_state=12345, solver=...</td>\n",
       "      <td>{'class_weight': None, 'solver': 'liblinear', ...</td>\n",
       "      <td>LogisticRegression</td>\n",
       "      <td>upsampling</td>\n",
       "    </tr>\n",
       "    <tr>\n",
       "      <th>8</th>\n",
       "      <td>0.502343</td>\n",
       "      <td>0.705630</td>\n",
       "      <td>LogisticRegression(random_state=12345, solver=...</td>\n",
       "      <td>{'class_weight': None, 'solver': 'liblinear', ...</td>\n",
       "      <td>LogisticRegression</td>\n",
       "      <td>downsampling</td>\n",
       "    </tr>\n",
       "  </tbody>\n",
       "</table>\n",
       "</div>"
      ],
      "text/plain": [
       "   f1_score   auc_roc                                              model  \\\n",
       "2  0.494767  0.698339  LogisticRegression(class_weight='balanced', ra...   \n",
       "5  0.469055  0.671427  LogisticRegression(random_state=12345, solver=...   \n",
       "8  0.502343  0.705630  LogisticRegression(random_state=12345, solver=...   \n",
       "\n",
       "                                              params           algorithm  \\\n",
       "2  {'class_weight': 'balanced', 'solver': 'liblin...  LogisticRegression   \n",
       "5  {'class_weight': None, 'solver': 'liblinear', ...  LogisticRegression   \n",
       "8  {'class_weight': None, 'solver': 'liblinear', ...  LogisticRegression   \n",
       "\n",
       "              method  \n",
       "2  balanced argument  \n",
       "5         upsampling  \n",
       "8       downsampling  "
      ]
     },
     "metadata": {},
     "output_type": "display_data"
    }
   ],
   "source": [
    "display(results[results['algorithm'] == 'LogisticRegression'])"
   ]
  },
  {
   "cell_type": "markdown",
   "metadata": {},
   "source": [
    "# Review Results"
   ]
  },
  {
   "cell_type": "code",
   "execution_count": 54,
   "metadata": {},
   "outputs": [
    {
     "data": {
      "text/html": [
       "<div>\n",
       "<style scoped>\n",
       "    .dataframe tbody tr th:only-of-type {\n",
       "        vertical-align: middle;\n",
       "    }\n",
       "\n",
       "    .dataframe tbody tr th {\n",
       "        vertical-align: top;\n",
       "    }\n",
       "\n",
       "    .dataframe thead th {\n",
       "        text-align: right;\n",
       "    }\n",
       "</style>\n",
       "<table border=\"1\" class=\"dataframe\">\n",
       "  <thead>\n",
       "    <tr style=\"text-align: right;\">\n",
       "      <th></th>\n",
       "      <th>f1_score</th>\n",
       "      <th>auc_roc</th>\n",
       "      <th>model</th>\n",
       "      <th>params</th>\n",
       "      <th>algorithm</th>\n",
       "      <th>method</th>\n",
       "    </tr>\n",
       "  </thead>\n",
       "  <tbody>\n",
       "    <tr>\n",
       "      <th>0</th>\n",
       "      <td>0.631470</td>\n",
       "      <td>0.794315</td>\n",
       "      <td>(DecisionTreeClassifier(max_features='sqrt', r...</td>\n",
       "      <td>{'class_weight': None, 'n_estimators': 500, 'c...</td>\n",
       "      <td>RandomForrestClassifier</td>\n",
       "      <td>downsampling</td>\n",
       "    </tr>\n",
       "    <tr>\n",
       "      <th>1</th>\n",
       "      <td>0.623244</td>\n",
       "      <td>0.757876</td>\n",
       "      <td>(DecisionTreeClassifier(max_features='sqrt', m...</td>\n",
       "      <td>{'class_weight': None, 'n_estimators': 300, 'c...</td>\n",
       "      <td>RandomForrestClassifier</td>\n",
       "      <td>upsampling</td>\n",
       "    </tr>\n",
       "    <tr>\n",
       "      <th>2</th>\n",
       "      <td>0.615842</td>\n",
       "      <td>0.789733</td>\n",
       "      <td>DecisionTreeClassifier(max_depth=6, random_sta...</td>\n",
       "      <td>{'class_weight': None, 'max_depth': 6, 'splitt...</td>\n",
       "      <td>DecisionTreeClassifier</td>\n",
       "      <td>downsampling</td>\n",
       "    </tr>\n",
       "    <tr>\n",
       "      <th>3</th>\n",
       "      <td>0.606452</td>\n",
       "      <td>0.770211</td>\n",
       "      <td>DecisionTreeClassifier(max_depth=7, min_sample...</td>\n",
       "      <td>{'class_weight': None, 'max_depth': 7, 'splitt...</td>\n",
       "      <td>DecisionTreeClassifier</td>\n",
       "      <td>upsampling</td>\n",
       "    </tr>\n",
       "    <tr>\n",
       "      <th>4</th>\n",
       "      <td>0.598058</td>\n",
       "      <td>0.778833</td>\n",
       "      <td>(DecisionTreeClassifier(max_features='sqrt', m...</td>\n",
       "      <td>{'class_weight': 'balanced', 'n_estimators': 1...</td>\n",
       "      <td>RandomForrestClassifier</td>\n",
       "      <td>balanced argument</td>\n",
       "    </tr>\n",
       "    <tr>\n",
       "      <th>5</th>\n",
       "      <td>0.577491</td>\n",
       "      <td>0.769571</td>\n",
       "      <td>DecisionTreeClassifier(class_weight='balanced'...</td>\n",
       "      <td>{'class_weight': 'balanced', 'max_depth': 6, '...</td>\n",
       "      <td>DecisionTreeClassifier</td>\n",
       "      <td>balanced argument</td>\n",
       "    </tr>\n",
       "    <tr>\n",
       "      <th>6</th>\n",
       "      <td>0.502343</td>\n",
       "      <td>0.705630</td>\n",
       "      <td>LogisticRegression(random_state=12345, solver=...</td>\n",
       "      <td>{'class_weight': None, 'solver': 'liblinear', ...</td>\n",
       "      <td>LogisticRegression</td>\n",
       "      <td>downsampling</td>\n",
       "    </tr>\n",
       "    <tr>\n",
       "      <th>7</th>\n",
       "      <td>0.494767</td>\n",
       "      <td>0.698339</td>\n",
       "      <td>LogisticRegression(class_weight='balanced', ra...</td>\n",
       "      <td>{'class_weight': 'balanced', 'solver': 'liblin...</td>\n",
       "      <td>LogisticRegression</td>\n",
       "      <td>balanced argument</td>\n",
       "    </tr>\n",
       "    <tr>\n",
       "      <th>8</th>\n",
       "      <td>0.469055</td>\n",
       "      <td>0.671427</td>\n",
       "      <td>LogisticRegression(random_state=12345, solver=...</td>\n",
       "      <td>{'class_weight': None, 'solver': 'liblinear', ...</td>\n",
       "      <td>LogisticRegression</td>\n",
       "      <td>upsampling</td>\n",
       "    </tr>\n",
       "  </tbody>\n",
       "</table>\n",
       "</div>"
      ],
      "text/plain": [
       "   f1_score   auc_roc                                              model  \\\n",
       "0  0.631470  0.794315  (DecisionTreeClassifier(max_features='sqrt', r...   \n",
       "1  0.623244  0.757876  (DecisionTreeClassifier(max_features='sqrt', m...   \n",
       "2  0.615842  0.789733  DecisionTreeClassifier(max_depth=6, random_sta...   \n",
       "3  0.606452  0.770211  DecisionTreeClassifier(max_depth=7, min_sample...   \n",
       "4  0.598058  0.778833  (DecisionTreeClassifier(max_features='sqrt', m...   \n",
       "5  0.577491  0.769571  DecisionTreeClassifier(class_weight='balanced'...   \n",
       "6  0.502343  0.705630  LogisticRegression(random_state=12345, solver=...   \n",
       "7  0.494767  0.698339  LogisticRegression(class_weight='balanced', ra...   \n",
       "8  0.469055  0.671427  LogisticRegression(random_state=12345, solver=...   \n",
       "\n",
       "                                              params                algorithm  \\\n",
       "0  {'class_weight': None, 'n_estimators': 500, 'c...  RandomForrestClassifier   \n",
       "1  {'class_weight': None, 'n_estimators': 300, 'c...  RandomForrestClassifier   \n",
       "2  {'class_weight': None, 'max_depth': 6, 'splitt...   DecisionTreeClassifier   \n",
       "3  {'class_weight': None, 'max_depth': 7, 'splitt...   DecisionTreeClassifier   \n",
       "4  {'class_weight': 'balanced', 'n_estimators': 1...  RandomForrestClassifier   \n",
       "5  {'class_weight': 'balanced', 'max_depth': 6, '...   DecisionTreeClassifier   \n",
       "6  {'class_weight': None, 'solver': 'liblinear', ...       LogisticRegression   \n",
       "7  {'class_weight': 'balanced', 'solver': 'liblin...       LogisticRegression   \n",
       "8  {'class_weight': None, 'solver': 'liblinear', ...       LogisticRegression   \n",
       "\n",
       "              method  \n",
       "0       downsampling  \n",
       "1         upsampling  \n",
       "2       downsampling  \n",
       "3         upsampling  \n",
       "4  balanced argument  \n",
       "5  balanced argument  \n",
       "6       downsampling  \n",
       "7  balanced argument  \n",
       "8         upsampling  "
      ]
     },
     "metadata": {},
     "output_type": "display_data"
    }
   ],
   "source": [
    "# Sort results by descending f1_score, auc_roc\n",
    "results = results.sort_values(by=['f1_score', 'auc_roc'], ascending=False, ignore_index=True)\n",
    "\n",
    "display(results)"
   ]
  },
  {
   "cell_type": "code",
   "execution_count": 55,
   "metadata": {},
   "outputs": [],
   "source": [
    "save_results(results)"
   ]
  },
  {
   "cell_type": "markdown",
   "metadata": {},
   "source": [
    "# Adjust Threshold"
   ]
  },
  {
   "cell_type": "code",
   "execution_count": 56,
   "metadata": {},
   "outputs": [
    {
     "data": {
      "text/html": [
       "<div>\n",
       "<style scoped>\n",
       "    .dataframe tbody tr th:only-of-type {\n",
       "        vertical-align: middle;\n",
       "    }\n",
       "\n",
       "    .dataframe tbody tr th {\n",
       "        vertical-align: top;\n",
       "    }\n",
       "\n",
       "    .dataframe thead th {\n",
       "        text-align: right;\n",
       "    }\n",
       "</style>\n",
       "<table border=\"1\" class=\"dataframe\">\n",
       "  <thead>\n",
       "    <tr style=\"text-align: right;\">\n",
       "      <th></th>\n",
       "      <th>f1_score</th>\n",
       "      <th>auc_roc</th>\n",
       "      <th>model</th>\n",
       "      <th>params</th>\n",
       "      <th>algorithm</th>\n",
       "      <th>method</th>\n",
       "    </tr>\n",
       "  </thead>\n",
       "  <tbody>\n",
       "    <tr>\n",
       "      <th>0</th>\n",
       "      <td>0.631470</td>\n",
       "      <td>0.794315</td>\n",
       "      <td>(DecisionTreeClassifier(max_features='sqrt', r...</td>\n",
       "      <td>{'class_weight': None, 'n_estimators': 500, 'c...</td>\n",
       "      <td>RandomForrestClassifier</td>\n",
       "      <td>downsampling</td>\n",
       "    </tr>\n",
       "    <tr>\n",
       "      <th>1</th>\n",
       "      <td>0.623244</td>\n",
       "      <td>0.757876</td>\n",
       "      <td>(DecisionTreeClassifier(max_features='sqrt', m...</td>\n",
       "      <td>{'class_weight': None, 'n_estimators': 300, 'c...</td>\n",
       "      <td>RandomForrestClassifier</td>\n",
       "      <td>upsampling</td>\n",
       "    </tr>\n",
       "    <tr>\n",
       "      <th>2</th>\n",
       "      <td>0.615842</td>\n",
       "      <td>0.789733</td>\n",
       "      <td>DecisionTreeClassifier(max_depth=6, random_sta...</td>\n",
       "      <td>{'class_weight': None, 'max_depth': 6, 'splitt...</td>\n",
       "      <td>DecisionTreeClassifier</td>\n",
       "      <td>downsampling</td>\n",
       "    </tr>\n",
       "    <tr>\n",
       "      <th>3</th>\n",
       "      <td>0.606452</td>\n",
       "      <td>0.770211</td>\n",
       "      <td>DecisionTreeClassifier(max_depth=7, min_sample...</td>\n",
       "      <td>{'class_weight': None, 'max_depth': 7, 'splitt...</td>\n",
       "      <td>DecisionTreeClassifier</td>\n",
       "      <td>upsampling</td>\n",
       "    </tr>\n",
       "    <tr>\n",
       "      <th>4</th>\n",
       "      <td>0.598058</td>\n",
       "      <td>0.778833</td>\n",
       "      <td>(DecisionTreeClassifier(max_features='sqrt', m...</td>\n",
       "      <td>{'class_weight': 'balanced', 'n_estimators': 1...</td>\n",
       "      <td>RandomForrestClassifier</td>\n",
       "      <td>balanced argument</td>\n",
       "    </tr>\n",
       "    <tr>\n",
       "      <th>5</th>\n",
       "      <td>0.577491</td>\n",
       "      <td>0.769571</td>\n",
       "      <td>DecisionTreeClassifier(class_weight='balanced'...</td>\n",
       "      <td>{'class_weight': 'balanced', 'max_depth': 6, '...</td>\n",
       "      <td>DecisionTreeClassifier</td>\n",
       "      <td>balanced argument</td>\n",
       "    </tr>\n",
       "    <tr>\n",
       "      <th>6</th>\n",
       "      <td>0.502343</td>\n",
       "      <td>0.705630</td>\n",
       "      <td>LogisticRegression(random_state=12345, solver=...</td>\n",
       "      <td>{'class_weight': None, 'solver': 'liblinear', ...</td>\n",
       "      <td>LogisticRegression</td>\n",
       "      <td>downsampling</td>\n",
       "    </tr>\n",
       "    <tr>\n",
       "      <th>7</th>\n",
       "      <td>0.494767</td>\n",
       "      <td>0.698339</td>\n",
       "      <td>LogisticRegression(class_weight='balanced', ra...</td>\n",
       "      <td>{'class_weight': 'balanced', 'solver': 'liblin...</td>\n",
       "      <td>LogisticRegression</td>\n",
       "      <td>balanced argument</td>\n",
       "    </tr>\n",
       "    <tr>\n",
       "      <th>8</th>\n",
       "      <td>0.469055</td>\n",
       "      <td>0.671427</td>\n",
       "      <td>LogisticRegression(random_state=12345, solver=...</td>\n",
       "      <td>{'class_weight': None, 'solver': 'liblinear', ...</td>\n",
       "      <td>LogisticRegression</td>\n",
       "      <td>upsampling</td>\n",
       "    </tr>\n",
       "  </tbody>\n",
       "</table>\n",
       "</div>"
      ],
      "text/plain": [
       "   f1_score   auc_roc                                              model  \\\n",
       "0  0.631470  0.794315  (DecisionTreeClassifier(max_features='sqrt', r...   \n",
       "1  0.623244  0.757876  (DecisionTreeClassifier(max_features='sqrt', m...   \n",
       "2  0.615842  0.789733  DecisionTreeClassifier(max_depth=6, random_sta...   \n",
       "3  0.606452  0.770211  DecisionTreeClassifier(max_depth=7, min_sample...   \n",
       "4  0.598058  0.778833  (DecisionTreeClassifier(max_features='sqrt', m...   \n",
       "5  0.577491  0.769571  DecisionTreeClassifier(class_weight='balanced'...   \n",
       "6  0.502343  0.705630  LogisticRegression(random_state=12345, solver=...   \n",
       "7  0.494767  0.698339  LogisticRegression(class_weight='balanced', ra...   \n",
       "8  0.469055  0.671427  LogisticRegression(random_state=12345, solver=...   \n",
       "\n",
       "                                              params                algorithm  \\\n",
       "0  {'class_weight': None, 'n_estimators': 500, 'c...  RandomForrestClassifier   \n",
       "1  {'class_weight': None, 'n_estimators': 300, 'c...  RandomForrestClassifier   \n",
       "2  {'class_weight': None, 'max_depth': 6, 'splitt...   DecisionTreeClassifier   \n",
       "3  {'class_weight': None, 'max_depth': 7, 'splitt...   DecisionTreeClassifier   \n",
       "4  {'class_weight': 'balanced', 'n_estimators': 1...  RandomForrestClassifier   \n",
       "5  {'class_weight': 'balanced', 'max_depth': 6, '...   DecisionTreeClassifier   \n",
       "6  {'class_weight': None, 'solver': 'liblinear', ...       LogisticRegression   \n",
       "7  {'class_weight': 'balanced', 'solver': 'liblin...       LogisticRegression   \n",
       "8  {'class_weight': None, 'solver': 'liblinear', ...       LogisticRegression   \n",
       "\n",
       "              method  \n",
       "0       downsampling  \n",
       "1         upsampling  \n",
       "2       downsampling  \n",
       "3         upsampling  \n",
       "4  balanced argument  \n",
       "5  balanced argument  \n",
       "6       downsampling  \n",
       "7  balanced argument  \n",
       "8         upsampling  "
      ]
     },
     "metadata": {},
     "output_type": "display_data"
    }
   ],
   "source": [
    "results = load_results()\n",
    "\n",
    "display(results)"
   ]
  },
  {
   "cell_type": "markdown",
   "metadata": {},
   "source": [
    "The Random Forrest Classifier takes the top two spots of all the methods and algorithms tested. The F1 score the downsampling method and upsampling method are within .01 of each other, but the AUC ROC score is significantly better for the downsampling method.\n",
    "\n",
    "We will keep the top two results and plot the AUC ROC curve to visually compare the two models. "
   ]
  },
  {
   "cell_type": "code",
   "execution_count": 57,
   "metadata": {},
   "outputs": [],
   "source": [
    "# Keep only the top 2 results\n",
    "results = results.head(2)"
   ]
  },
  {
   "cell_type": "code",
   "execution_count": 58,
   "metadata": {},
   "outputs": [
    {
     "data": {
      "image/png": "[encoded data removed]",
      "text/plain": [
       "<Figure size 500x400 with 1 Axes>"
      ]
     },
     "metadata": {},
     "output_type": "display_data"
    },
    {
     "data": {
      "image/png": "[encoded data removed]",
      "text/plain": [
       "<Figure size 500x400 with 1 Axes>"
      ]
     },
     "metadata": {},
     "output_type": "display_data"
    }
   ],
   "source": [
    "# Plot the AuC-ROC curve for the top 2 models\n",
    "for i, row in results.iterrows():\n",
    "    model = row['model']\n",
    "    predictions_valid = model.predict(features_valid)\n",
    "    fpr, tpr, thresholds = roc_curve(target_valid, predictions_valid)\n",
    "    plt.figure(figsize=(5, 4))\n",
    "    plt.plot(fpr, tpr)\n",
    "    plt.xlim([0.0, 1.0])\n",
    "    plt.ylim([0.0, 1.05])\n",
    "    plt.xlabel('False Positive Rate')\n",
    "    plt.ylabel('True Positive Rate')\n",
    "    plt.title(f\"{row['method']} {row['algorithm']} ROC curve\")\n",
    "    plt.show()"
   ]
  },
  {
   "cell_type": "markdown",
   "metadata": {},
   "source": [
    "Because there is clearly better performance for the downsampling method with the Random Forrest Classifier, we will drop the rest of the models from the results df.\n",
    "\n",
    "In an attempt to further improve the F1 and AUC ROC scores, we will iterate over a range of thresholds (from 0 to 1, at .02 intervals)."
   ]
  },
  {
   "cell_type": "code",
   "execution_count": 59,
   "metadata": {},
   "outputs": [
    {
     "data": {
      "text/html": [
       "<div>\n",
       "<style scoped>\n",
       "    .dataframe tbody tr th:only-of-type {\n",
       "        vertical-align: middle;\n",
       "    }\n",
       "\n",
       "    .dataframe tbody tr th {\n",
       "        vertical-align: top;\n",
       "    }\n",
       "\n",
       "    .dataframe thead th {\n",
       "        text-align: right;\n",
       "    }\n",
       "</style>\n",
       "<table border=\"1\" class=\"dataframe\">\n",
       "  <thead>\n",
       "    <tr style=\"text-align: right;\">\n",
       "      <th></th>\n",
       "      <th>f1_score</th>\n",
       "      <th>auc_roc</th>\n",
       "      <th>model</th>\n",
       "      <th>params</th>\n",
       "      <th>algorithm</th>\n",
       "      <th>method</th>\n",
       "      <th>threshold</th>\n",
       "    </tr>\n",
       "  </thead>\n",
       "  <tbody>\n",
       "    <tr>\n",
       "      <th>0</th>\n",
       "      <td>0.633929</td>\n",
       "      <td>0.783969</td>\n",
       "      <td>(DecisionTreeClassifier(max_features='sqrt', r...</td>\n",
       "      <td>{'class_weight': None, 'n_estimators': 500, 'c...</td>\n",
       "      <td>RandomForrestClassifier</td>\n",
       "      <td>downsampling</td>\n",
       "      <td>0.54</td>\n",
       "    </tr>\n",
       "    <tr>\n",
       "      <th>1</th>\n",
       "      <td>0.631470</td>\n",
       "      <td>0.794315</td>\n",
       "      <td>(DecisionTreeClassifier(max_features='sqrt', r...</td>\n",
       "      <td>{'class_weight': None, 'n_estimators': 500, 'c...</td>\n",
       "      <td>RandomForrestClassifier</td>\n",
       "      <td>downsampling</td>\n",
       "      <td>0.50</td>\n",
       "    </tr>\n",
       "    <tr>\n",
       "      <th>2</th>\n",
       "      <td>0.629405</td>\n",
       "      <td>0.768407</td>\n",
       "      <td>(DecisionTreeClassifier(max_features='sqrt', r...</td>\n",
       "      <td>{'class_weight': None, 'n_estimators': 500, 'c...</td>\n",
       "      <td>RandomForrestClassifier</td>\n",
       "      <td>downsampling</td>\n",
       "      <td>0.58</td>\n",
       "    </tr>\n",
       "  </tbody>\n",
       "</table>\n",
       "</div>"
      ],
      "text/plain": [
       "   f1_score   auc_roc                                              model  \\\n",
       "0  0.633929  0.783969  (DecisionTreeClassifier(max_features='sqrt', r...   \n",
       "1  0.631470  0.794315  (DecisionTreeClassifier(max_features='sqrt', r...   \n",
       "2  0.629405  0.768407  (DecisionTreeClassifier(max_features='sqrt', r...   \n",
       "\n",
       "                                              params                algorithm  \\\n",
       "0  {'class_weight': None, 'n_estimators': 500, 'c...  RandomForrestClassifier   \n",
       "1  {'class_weight': None, 'n_estimators': 500, 'c...  RandomForrestClassifier   \n",
       "2  {'class_weight': None, 'n_estimators': 500, 'c...  RandomForrestClassifier   \n",
       "\n",
       "         method  threshold  \n",
       "0  downsampling       0.54  \n",
       "1  downsampling       0.50  \n",
       "2  downsampling       0.58  "
      ]
     },
     "metadata": {},
     "output_type": "display_data"
    }
   ],
   "source": [
    "results = results.head(1)\n",
    "\n",
    "results = find_threshold(results, features_valid, target_valid)\n",
    "\n",
    "display(results)"
   ]
  },
  {
   "cell_type": "markdown",
   "metadata": {},
   "source": [
    "A threshold value of .54 returns the best f1 score, while a threshold of .50 returns the best AUC ROC score. In this case we will prioritize the F1 score and select the model with the best F1 as our best model for final testing."
   ]
  },
  {
   "cell_type": "code",
   "execution_count": 60,
   "metadata": {},
   "outputs": [],
   "source": [
    "best_result = results.iloc[0]"
   ]
  },
  {
   "cell_type": "markdown",
   "metadata": {},
   "source": [
    "# Final Test"
   ]
  },
  {
   "cell_type": "code",
   "execution_count": 61,
   "metadata": {},
   "outputs": [
    {
     "name": "stdout",
     "output_type": "stream",
     "text": [
      "F1 Score: 0.6166281755196305\n",
      "AUC-ROC Score: 0.7677461745258356\n"
     ]
    }
   ],
   "source": [
    "# Concat the training and validation data\n",
    "features_train = pd.concat([features_train, features_valid])\n",
    "target_train = pd.concat([target_train, target_valid])\n",
    "\n",
    "# Downsample the training data\n",
    "features_downsampled, target_downsampled = downsample(features_train, target_train, 0.3, random_state)\n",
    "\n",
    "# Train the model on the downsampled data\n",
    "model = best_result['model']\n",
    "model.fit(features_downsampled, target_downsampled)\n",
    "\n",
    "# Predict the probabilities of the positive class\n",
    "probabilities_one_test = model.predict_proba(features_test)[:, 1]\n",
    "\n",
    "# Set the threshold\n",
    "threshold = best_result['threshold']\n",
    "predictions_test = probabilities_one_test > threshold\n",
    "\n",
    "# Calculate the f1 score\n",
    "f1 = f1_score(target_test, predictions_test)\n",
    "# Calculate the auc_roc score\n",
    "auc_roc = roc_auc_score(target_test, predictions_test)\n",
    "\n",
    "print(f\"F1 Score: {f1}\")\n",
    "print(f\"AUC-ROC Score: {auc_roc}\")\n"
   ]
  },
  {
   "cell_type": "markdown",
   "metadata": {},
   "source": [
    "# Conclusion\n",
    "\n",
    "In the task for creating a model capable of predicting Beta Bank customer churn with an f1 score of at least .59, "
   ]
  },
  {
   "cell_type": "code",
   "execution_count": null,
   "metadata": {},
   "outputs": [],
   "source": []
  }
 ],
 "metadata": {
  "kernelspec": {
   "display_name": "Python 3",
   "language": "python",
   "name": "python3"
  },
  "language_info": {
   "codemirror_mode": {
    "name": "ipython",
    "version": 3
   },
   "file_extension": ".py",
   "mimetype": "text/x-python",
   "name": "python",
   "nbconvert_exporter": "python",
   "pygments_lexer": "ipython3",
   "version": "3.10.12"
  }
 },
 "nbformat": 4,
 "nbformat_minor": 2
}
